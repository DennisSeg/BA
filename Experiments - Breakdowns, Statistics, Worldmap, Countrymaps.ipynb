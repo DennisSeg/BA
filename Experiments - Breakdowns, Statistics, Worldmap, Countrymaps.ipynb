{
 "cells": [
  {
   "cell_type": "code",
   "execution_count": 2,
   "metadata": {},
   "outputs": [
    {
     "name": "stdout",
     "output_type": "stream",
     "text": [
      "8077794\n"
     ]
    }
   ],
   "source": [
    "import pandas as pd\n",
    "\n",
    "#Carmen, deepGeo, deepGeo+Noise, GeoLocText, GeoLocLP, GeoLocLP+Text+CEL\n",
    "tool=\"GeoLocLP+Text+CEL\"\n",
    "\n",
    "geoToolResults = 'C:/Users/Dennis/Desktop/BachelorArbeit/resultsALL/'+tool+'.csv'\n",
    "tweetCOV='C:/Users/Dennis/Desktop/BachelorArbeit/TweetsCOV19.tsv'\n",
    "df_tweetCOV = pd.read_csv(tweetCOV, delimiter ='\\t',names=['id','username',\"timestamp\",\"Follower\",\"Friends\",\"Retweets\",\"Favorites\",\"Entities\",\"Sentiment\",\"Mentions\",\"Hashtags\",\"URLs\"])\n",
    "#print(len(df_tweetCOV[\"id\"].unique()))"
   ]
  },
  {
   "cell_type": "code",
   "execution_count": 3,
   "metadata": {},
   "outputs": [],
   "source": [
    "# Merge results with TweetsCOV19.tsv to gain sentiment information for tweets etc.\n",
    "df_tweetCOV = pd.read_csv(tweetCOV, delimiter ='\\t',names=['id','username',\"timestamp\",\"Follower\",\"Friends\",\"Retweets\",\"Favorites\",\"Entities\",\"Sentiment\",\"Mentions\",\"Hashtags\",\"URLs\"])\n",
    "\n",
    "if tool==\"Carmen\":\n",
    "    df_tool = pd.read_csv(geoToolResults, delimiter =';',names=['id','latitude',\"longitude\",\"country\",\"state\",\"county\",\"city\",\"known\",\"location_id\"])\n",
    "    df_merged=pd.merge(df_tweetCOV,df_tool, left_on='id', right_on='id', how='inner')\n",
    "\n",
    "elif tool ==\"GeoLocText\" or \"GeoLocLP\" or \"GeoLocLP+Text+CEL\":\n",
    "    df_tool = pd.read_csv(geoToolResults, delimiter =',',names=['id','country',\"state\",\"city\"], encoding='cp1252')\n",
    "    df_merged=pd.merge(df_tweetCOV,df_tool, left_on='id', right_on='id', how='inner')\n",
    "\n",
    "else: \n",
    "    df_tool = pd.read_csv(geoToolResults, delimiter =';',names=['id','country',\"state\",\"city\"], encoding='cp1252')\n",
    "    df_merged=pd.merge(df_tweetCOV,df_tool, left_on='id', right_on='id', how='inner')"
   ]
  },
  {
   "cell_type": "code",
   "execution_count": 4,
   "metadata": {},
   "outputs": [
    {
     "name": "stdout",
     "output_type": "stream",
     "text": [
      "United States 3374343\n",
      "United Kingdom 1023228\n",
      "Germany 23396\n",
      "France 29244\n",
      "Spain 69890\n",
      "India 313297\n",
      "Italy 27662\n",
      "null 0\n"
     ]
    }
   ],
   "source": [
    "list_countries = [\"United States\",\"United Kingdom\",\"Germany\",\"France\",\"Spain\",\"India\",\"Italy\"]\n",
    "\n",
    "# Show number of tweets for list of countries\n",
    "for x in list_countries:\n",
    "    df = df_merged[df_merged[\"country\"]==x]\n",
    "    print(x+\" \"+str(len(df)))"
   ]
  },
  {
   "cell_type": "code",
   "execution_count": null,
   "metadata": {},
   "outputs": [],
   "source": [
    "#************************************************************************************************"
   ]
  },
  {
   "cell_type": "code",
   "execution_count": null,
   "metadata": {},
   "outputs": [],
   "source": [
    "#************************************************************************************************"
   ]
  },
  {
   "cell_type": "code",
   "execution_count": 251,
   "metadata": {},
   "outputs": [
    {
     "name": "stdout",
     "output_type": "stream",
     "text": [
      "Countries Breakdown\n",
      "Number uniqe Countries: 184\n",
      "1 > 1M\n",
      "3 > 100K\n",
      "3 > 50K\n",
      "10 > 10K\n",
      "9 > 5K\n",
      "30 > 1K\n"
     ]
    }
   ],
   "source": [
    "# Tweets Countries Breakdown\n",
    "dataCountries={}\n",
    "\n",
    "region='country'\n",
    "\n",
    "for x in df_merged[region].unique():\n",
    "    dataCountries[x]=len(df_merged[df_merged[region]==x])\n",
    "\n",
    "gt1m=0\n",
    "gt100k=0\n",
    "gt50k=0\n",
    "gt10k=0\n",
    "gt5k=0\n",
    "gt1k=0\n",
    "\n",
    "\n",
    "for x,y in dataCountries.items():\n",
    "    if x==\"null\" or (x is None):\n",
    "        continue\n",
    "    if y>1000000:\n",
    "        gt1m=gt1m+1\n",
    "    elif y>100000:\n",
    "        gt100k=gt100k+1\n",
    "    elif y>50000:\n",
    "        gt50k=gt50k+1\n",
    "    elif y>10000:\n",
    "        gt10k=gt10k+1\n",
    "    elif y>5000:\n",
    "        gt5k=gt5k+1\n",
    "    elif y>1000:\n",
    "        gt1k=gt1k+1\n",
    "\n",
    "unique = len(df_merged[region].unique())\n",
    "print(\"Countries Breakdown\")\n",
    "print(\"Number uniqe Countries: \"+str(unique))\n",
    "print(str(gt1m) +\" > 1M\")\n",
    "print(str(gt100k) +\" > 100K\")\n",
    "print(str(gt50k) +\" > 50K\")\n",
    "print(str(gt10k) +\" > 10K\")\n",
    "print(str(gt5k) +\" > 5K\")\n",
    "print(str(gt1k) +\" > 1K\")"
   ]
  },
  {
   "cell_type": "code",
   "execution_count": 252,
   "metadata": {},
   "outputs": [
    {
     "name": "stdout",
     "output_type": "stream",
     "text": [
      "Cities Breakdown\n",
      "Number uniqe Cities: 9165\n",
      "2 > 100K\n",
      "2 > 50K\n",
      "49 > 10K\n",
      "68 > 5K\n",
      "496 > 1K\n",
      "385 > 500\n",
      "1474 > 100\n"
     ]
    }
   ],
   "source": [
    "# Tweets Cities Breakdown\n",
    "dataCities={}\n",
    "region='city'\n",
    "\n",
    "for x in df_merged[region].unique():\n",
    "    dataCities[x]=len(df_merged[df_merged[region]==x])\n",
    "\n",
    "gt100k=0\n",
    "gt50k=0\n",
    "gt10k=0\n",
    "gt5k=0\n",
    "gt1k=0\n",
    "gt500=0\n",
    "gt100=0\n",
    "\n",
    "for x,y in dataCities.items():\n",
    "    if x==\"null\" or (x is None):\n",
    "        continue\n",
    "    if y>100000:\n",
    "        gt100k=gt100k+1\n",
    "    elif y>50000:\n",
    "        gt50k=gt50k+1\n",
    "    elif y>10000:\n",
    "        gt10k=gt10k+1\n",
    "    elif y>5000:\n",
    "        gt5k=gt5k+1\n",
    "    elif y>1000:\n",
    "        gt1k=gt1k+1\n",
    "    elif y>500:\n",
    "        gt500=gt500+1\n",
    "    elif y>100:\n",
    "        gt100=gt100+1   \n",
    "\n",
    "unique = len(df_merged[region].unique())\n",
    "print(\"Cities Breakdown\")\n",
    "print(\"Number uniqe Cities: \"+str(unique))\n",
    "print(str(gt100k) +\" > 100K\")\n",
    "print(str(gt50k) +\" > 50K\")\n",
    "print(str(gt10k) +\" > 10K\")\n",
    "print(str(gt5k) +\" > 5K\")\n",
    "print(str(gt1k) +\" > 1K\")\n",
    "print(str(gt500) +\" > 500\")\n",
    "print(str(gt100) +\" > 100\")"
   ]
  },
  {
   "cell_type": "code",
   "execution_count": 253,
   "metadata": {},
   "outputs": [],
   "source": [
    "# Analyse Average Retweet, Like, Follower per Sentiment(pos + neg Score) for specific country"
   ]
  },
  {
   "cell_type": "code",
   "execution_count": 254,
   "metadata": {},
   "outputs": [],
   "source": [
    "def analyse_Sentiment(country):\n",
    "    df_country = df_merged[df_merged[\"country\"]==country]\n",
    "\n",
    "    sentCount={}\n",
    "    retweetPerTweet={}\n",
    "    followerPerTweet={}\n",
    "    favoritePerTweet={}\n",
    "    count=0\n",
    "    for index,line in df_country.iterrows():\n",
    "        sentiment=line[\"Sentiment\"]\n",
    "        retweet=int(line[\"Retweets\"])\n",
    "        follower=int(line[\"Follower\"])\n",
    "        favorites=int(line[\"Favorites\"])\n",
    "\n",
    "        sentSplit=sentiment.split(\" \")\n",
    "        sentSum=int(sentSplit[0])+int(sentSplit[1])\n",
    "        strSent=str(sentSum)\n",
    "\n",
    "        if strSent not in sentCount:\n",
    "            sentCount[strSent]=1\n",
    "            retweetPerTweet[strSent]=retweet\n",
    "            followerPerTweet[strSent]=follower\n",
    "            favoritePerTweet[strSent]=favorites\n",
    "        else:\n",
    "            sentCount[strSent]=sentCount[strSent]+1\n",
    "            retweetPerTweet[strSent]=retweetPerTweet[strSent]+retweet\n",
    "            followerPerTweet[strSent]=followerPerTweet[strSent]+follower\n",
    "            favoritePerTweet[strSent]=favoritePerTweet[strSent]+favorites\n",
    "        count=count+1\n",
    "\n",
    "    sorted_sentCount=dict(sorted(sentCount.items(),key = lambda x: int(x[0])))\n",
    "    sorted_retweet=dict(sorted(retweetPerTweet.items(),key = lambda x: int(x[0])))\n",
    "    sorted_follower=dict(sorted(followerPerTweet.items(),key = lambda x: int(x[0])))\n",
    "    sorted_favorite=dict(sorted(favoritePerTweet.items(),key = lambda x: int(x[0])))\n",
    "\n",
    "    for key,value in sorted_sentCount.items():\n",
    "        avgRetweet=round(sorted_retweet[key]/value,2)\n",
    "        avgFollower=round(sorted_follower[key]/value,2)\n",
    "        avgFavorite=round(sorted_favorite[key]/value,2)\n",
    "        percentage = round(((value/count)*100),2)\n",
    "        print(\"Sentiment \"+key+\" : Percentage Tweets \"+str(percentage)+\"%,  Retweet \"+str(avgRetweet)+\", Likes \"+str(avgFavorite)+\", Follower \"+str(avgFollower))"
   ]
  },
  {
   "cell_type": "code",
   "execution_count": 255,
   "metadata": {},
   "outputs": [
    {
     "name": "stdout",
     "output_type": "stream",
     "text": [
      "Sentiment -4 : Percentage Tweets 0.19%,  Retweet 57.09, Likes 215.98, Follower 132420.41\n",
      "Sentiment -3 : Percentage Tweets 3.69%,  Retweet 52.95, Likes 172.42, Follower 276020.31\n",
      "Sentiment -2 : Percentage Tweets 8.78%,  Retweet 52.38, Likes 170.35, Follower 319537.75\n",
      "Sentiment -1 : Percentage Tweets 11.74%,  Retweet 46.29, Likes 156.74, Follower 272113.65\n",
      "Sentiment 0 : Percentage Tweets 45.78%,  Retweet 41.35, Likes 144.15, Follower 331521.07\n",
      "Sentiment 1 : Percentage Tweets 20.59%,  Retweet 37.37, Likes 137.62, Follower 182474.64\n",
      "Sentiment 2 : Percentage Tweets 8.46%,  Retweet 37.15, Likes 137.6, Follower 228007.26\n",
      "Sentiment 3 : Percentage Tweets 0.74%,  Retweet 34.15, Likes 135.13, Follower 165394.73\n",
      "Sentiment 4 : Percentage Tweets 0.03%,  Retweet 34.42, Likes 144.78, Follower 55603.63\n"
     ]
    }
   ],
   "source": [
    "#Analyse Pro Land\n",
    "analyse_Sentiment(\"United States\")"
   ]
  },
  {
   "cell_type": "code",
   "execution_count": 256,
   "metadata": {},
   "outputs": [
    {
     "name": "stdout",
     "output_type": "stream",
     "text": [
      "Sentiment -4 : Percentage Tweets 0.28%,  Retweet 93.89, Likes 111.67, Follower 32488.33\n",
      "Sentiment -3 : Percentage Tweets 3.04%,  Retweet 28.94, Likes 56.7, Follower 28014.35\n",
      "Sentiment -2 : Percentage Tweets 8.27%,  Retweet 23.96, Likes 92.68, Follower 85615.25\n",
      "Sentiment -1 : Percentage Tweets 11.09%,  Retweet 35.02, Likes 136.37, Follower 65686.16\n",
      "Sentiment 0 : Percentage Tweets 45.74%,  Retweet 22.36, Likes 123.33, Follower 172511.02\n",
      "Sentiment 1 : Percentage Tweets 22.49%,  Retweet 31.69, Likes 204.39, Follower 74284.45\n",
      "Sentiment 2 : Percentage Tweets 8.3%,  Retweet 25.99, Likes 100.4, Follower 87471.1\n",
      "Sentiment 3 : Percentage Tweets 0.78%,  Retweet 12.72, Likes 60.28, Follower 82358.6\n"
     ]
    }
   ],
   "source": [
    "analyse_Sentiment(\"Germany\")"
   ]
  },
  {
   "cell_type": "code",
   "execution_count": 257,
   "metadata": {},
   "outputs": [
    {
     "name": "stdout",
     "output_type": "stream",
     "text": [
      "Sentiment -4 : Percentage Tweets 0.24%,  Retweet 47.98, Likes 163.72, Follower 141337.94\n",
      "Sentiment -3 : Percentage Tweets 4.29%,  Retweet 44.85, Likes 147.36, Follower 294238.38\n",
      "Sentiment -2 : Percentage Tweets 9.67%,  Retweet 47.5, Likes 157.69, Follower 360818.65\n",
      "Sentiment -1 : Percentage Tweets 13.41%,  Retweet 44.02, Likes 140.48, Follower 303913.8\n",
      "Sentiment 0 : Percentage Tweets 40.86%,  Retweet 36.52, Likes 122.34, Follower 512898.0\n",
      "Sentiment 1 : Percentage Tweets 21.54%,  Retweet 33.89, Likes 124.16, Follower 236962.61\n",
      "Sentiment 2 : Percentage Tweets 9.09%,  Retweet 29.57, Likes 125.17, Follower 248711.97\n",
      "Sentiment 3 : Percentage Tweets 0.87%,  Retweet 26.62, Likes 104.11, Follower 168668.12\n",
      "Sentiment 4 : Percentage Tweets 0.04%,  Retweet 16.38, Likes 101.11, Follower 515749.31\n"
     ]
    }
   ],
   "source": [
    "analyse_Sentiment(\"United Kingdom\")"
   ]
  },
  {
   "cell_type": "code",
   "execution_count": 258,
   "metadata": {},
   "outputs": [
    {
     "name": "stdout",
     "output_type": "stream",
     "text": [
      "Sentiment -4 : Percentage Tweets 0.13%,  Retweet 25.0, Likes 71.25, Follower 27307.75\n",
      "Sentiment -3 : Percentage Tweets 3.28%,  Retweet 44.06, Likes 131.04, Follower 186406.85\n",
      "Sentiment -2 : Percentage Tweets 8.5%,  Retweet 65.75, Likes 247.02, Follower 205358.99\n",
      "Sentiment -1 : Percentage Tweets 12.3%,  Retweet 40.25, Likes 137.33, Follower 143381.54\n",
      "Sentiment 0 : Percentage Tweets 45.1%,  Retweet 38.58, Likes 124.08, Follower 197205.15\n",
      "Sentiment 1 : Percentage Tweets 21.02%,  Retweet 33.79, Likes 109.59, Follower 131065.18\n",
      "Sentiment 2 : Percentage Tweets 8.92%,  Retweet 34.04, Likes 133.88, Follower 173565.94\n",
      "Sentiment 3 : Percentage Tweets 0.73%,  Retweet 33.14, Likes 146.25, Follower 125992.4\n",
      "Sentiment 4 : Percentage Tweets 0.02%,  Retweet 26.25, Likes 76.5, Follower 3098.0\n"
     ]
    }
   ],
   "source": [
    "analyse_Sentiment(\"France\")"
   ]
  },
  {
   "cell_type": "code",
   "execution_count": 259,
   "metadata": {},
   "outputs": [
    {
     "name": "stdout",
     "output_type": "stream",
     "text": [
      "Sentiment -4 : Percentage Tweets 0.26%,  Retweet 15.31, Likes 52.62, Follower 208930.15\n",
      "Sentiment -3 : Percentage Tweets 3.73%,  Retweet 48.01, Likes 120.07, Follower 146047.85\n",
      "Sentiment -2 : Percentage Tweets 8.74%,  Retweet 48.06, Likes 140.7, Follower 197424.56\n",
      "Sentiment -1 : Percentage Tweets 11.99%,  Retweet 25.39, Likes 92.02, Follower 233423.03\n",
      "Sentiment 0 : Percentage Tweets 43.56%,  Retweet 40.12, Likes 146.32, Follower 212212.1\n",
      "Sentiment 1 : Percentage Tweets 20.53%,  Retweet 27.2, Likes 112.89, Follower 242903.36\n",
      "Sentiment 2 : Percentage Tweets 10.29%,  Retweet 93.45, Likes 279.48, Follower 270566.72\n",
      "Sentiment 3 : Percentage Tweets 0.89%,  Retweet 35.96, Likes 220.96, Follower 165180.4\n",
      "Sentiment 4 : Percentage Tweets 0.02%,  Retweet 0.0, Likes 0.0, Follower 334.0\n"
     ]
    }
   ],
   "source": [
    "analyse_Sentiment(\"Italy\")"
   ]
  },
  {
   "cell_type": "code",
   "execution_count": 260,
   "metadata": {},
   "outputs": [
    {
     "name": "stdout",
     "output_type": "stream",
     "text": [
      "Sentiment -4 : Percentage Tweets 0.21%,  Retweet 76.91, Likes 235.08, Follower 356754.85\n",
      "Sentiment -3 : Percentage Tweets 4.16%,  Retweet 73.3, Likes 185.65, Follower 536066.24\n",
      "Sentiment -2 : Percentage Tweets 10.49%,  Retweet 66.12, Likes 184.51, Follower 552798.54\n",
      "Sentiment -1 : Percentage Tweets 13.55%,  Retweet 62.07, Likes 181.77, Follower 514328.11\n",
      "Sentiment 0 : Percentage Tweets 41.28%,  Retweet 48.11, Likes 152.72, Follower 744433.67\n",
      "Sentiment 1 : Percentage Tweets 20.72%,  Retweet 53.34, Likes 182.89, Follower 453030.94\n",
      "Sentiment 2 : Percentage Tweets 8.97%,  Retweet 54.73, Likes 194.09, Follower 595719.7\n",
      "Sentiment 3 : Percentage Tweets 0.6%,  Retweet 54.45, Likes 208.78, Follower 403512.43\n",
      "Sentiment 4 : Percentage Tweets 0.03%,  Retweet 129.16, Likes 555.09, Follower 129616.17\n"
     ]
    }
   ],
   "source": [
    "analyse_Sentiment(\"India\")"
   ]
  },
  {
   "cell_type": "code",
   "execution_count": 261,
   "metadata": {},
   "outputs": [
    {
     "name": "stdout",
     "output_type": "stream",
     "text": [
      "Sentiment -4 : Percentage Tweets 0.23%,  Retweet 44.05, Likes 77.93, Follower 109161.17\n",
      "Sentiment -3 : Percentage Tweets 4.48%,  Retweet 50.71, Likes 112.98, Follower 155706.27\n",
      "Sentiment -2 : Percentage Tweets 11.13%,  Retweet 52.86, Likes 122.73, Follower 249845.09\n",
      "Sentiment -1 : Percentage Tweets 13.36%,  Retweet 50.9, Likes 123.26, Follower 233447.52\n",
      "Sentiment 0 : Percentage Tweets 43.17%,  Retweet 48.61, Likes 149.81, Follower 347729.39\n",
      "Sentiment 1 : Percentage Tweets 19.83%,  Retweet 49.96, Likes 171.41, Follower 340558.6\n",
      "Sentiment 2 : Percentage Tweets 7.18%,  Retweet 50.87, Likes 168.25, Follower 341919.57\n",
      "Sentiment 3 : Percentage Tweets 0.61%,  Retweet 42.29, Likes 138.85, Follower 538568.78\n",
      "Sentiment 4 : Percentage Tweets 0.02%,  Retweet 25.82, Likes 216.05, Follower 69201.64\n"
     ]
    }
   ],
   "source": [
    "analyse_Sentiment(\"Spain\")"
   ]
  },
  {
   "cell_type": "code",
   "execution_count": 262,
   "metadata": {},
   "outputs": [],
   "source": [
    "#************************************************************************************************"
   ]
  },
  {
   "cell_type": "code",
   "execution_count": 263,
   "metadata": {},
   "outputs": [],
   "source": [
    "#************************************************************************************************"
   ]
  },
  {
   "cell_type": "code",
   "execution_count": 3,
   "metadata": {},
   "outputs": [],
   "source": [
    "# Analysis Sentiment + plot"
   ]
  },
  {
   "cell_type": "code",
   "execution_count": 4,
   "metadata": {},
   "outputs": [],
   "source": [
    "import matplotlib\n",
    "import matplotlib.pyplot as plt\n",
    "import numpy as np\n",
    "from datetime import datetime\n",
    "import matplotlib.ticker as tck\n",
    "\n",
    "def get_Sentiment(country):\n",
    "    #Set DataFrame to specific Country\n",
    "    df_country = df_merged[df_merged[\"country\"]==country]\n",
    "    \n",
    "    #Gather all positive/negative scores per Day\n",
    "    pos_score_per_day={}\n",
    "    neg_score_per_day={}\n",
    "    \n",
    "    #Number of Tweets per Day\n",
    "    countPerDay={}\n",
    "\n",
    "    \n",
    "    for index,line in df_country.iterrows():\n",
    "        #Get TimeStamp,Sentiment Columns\n",
    "\n",
    "        time=line[\"timestamp\"]\n",
    "        sentiment=line[\"Sentiment\"]  \n",
    "        \n",
    "        #Split to get only Month + Day + Year\n",
    "        time = time.split(\" \")\n",
    "        modTime=str(time[1]+\" \"+time[2]+\" \"+time[5])\n",
    "        \n",
    "        #We will not consider september\n",
    "        if time[1]==\"Sep\":\n",
    "            continue\n",
    "            \n",
    "        #Sentiment is seperated into two values, positive score and negative score    \n",
    "        sentSplit=sentiment.split(\" \")\n",
    "        posSent=int(sentSplit[0])\n",
    "        negSent=int(sentSplit[1])\n",
    "        \n",
    "\n",
    "        if modTime not in pos_score_per_day:\n",
    "            pos_score_per_day[modTime]=posSent\n",
    "            neg_score_per_day[modTime]=negSent\n",
    "            countPerDay[modTime]=1\n",
    "        else:\n",
    "            pos_score_per_day[modTime]=pos_score_per_day[modTime]+posSent\n",
    "            neg_score_per_day[modTime]=neg_score_per_day[modTime]+negSent\n",
    "            countPerDay[modTime]=countPerDay[modTime]+1\n",
    "    \n",
    "    #Sort dates \n",
    "    dates = list(countPerDay.keys())\n",
    "    dates = sorted(dates, key = lambda date: datetime.strptime(date ,\"%b %d %Y\"))\n",
    "    \n",
    "    pos_plot=[]\n",
    "    neg_plot=[]\n",
    "    avg_plot=[]\n",
    "    list_days=[]\n",
    "    \n",
    "    #Fill list_days so we are able to show only \"Month\"+\"Day\" in Plot\n",
    "    #Calculate positive/negative/average score per day\n",
    "    for day in dates:\n",
    "        var=day.split(\" \")\n",
    "        list_days.append(var[0]+\" \"+var[1])\n",
    "        calc_pos=pos_score_per_day[day]/countPerDay[day]\n",
    "        calc_neg=neg_score_per_day[day]/countPerDay[day]\n",
    "        pos_plot.append(calc_pos)\n",
    "        neg_plot.append(calc_neg)\n",
    "        avg_plot.append((calc_pos+calc_neg)/2)\n",
    "    \n",
    "    #Plot\n",
    "    fig, ax = plt.subplots(figsize=(14,2))\n",
    "    ax.plot(list_days,pos_plot)\n",
    "    ax.plot(list_days,neg_plot)\n",
    "    ax.plot(list_days,avg_plot)\n",
    "    ax.set_yticks([-3,-2,-1,0,1,2,3])\n",
    "    ax.xaxis.set_major_locator(tck.MultipleLocator(base=14.0))\n",
    "    #ax.axhline(0, color='black', lw=1)\n",
    "    plt.savefig('C:/Users/dennis/Desktop/'+country+tool+'.png')\n",
    "    plt.show()"
   ]
  },
  {
   "cell_type": "code",
   "execution_count": null,
   "metadata": {},
   "outputs": [],
   "source": [
    "get_Sentiment(\"United States\")"
   ]
  },
  {
   "cell_type": "code",
   "execution_count": null,
   "metadata": {},
   "outputs": [],
   "source": [
    "get_Sentiment(\"United Kingdom\")"
   ]
  },
  {
   "cell_type": "code",
   "execution_count": null,
   "metadata": {},
   "outputs": [],
   "source": [
    "get_Sentiment(\"Germany\")"
   ]
  },
  {
   "cell_type": "code",
   "execution_count": null,
   "metadata": {},
   "outputs": [],
   "source": [
    "get_Sentiment(\"France\")"
   ]
  },
  {
   "cell_type": "code",
   "execution_count": null,
   "metadata": {},
   "outputs": [],
   "source": [
    "get_Sentiment(\"Spain\")"
   ]
  },
  {
   "cell_type": "code",
   "execution_count": null,
   "metadata": {},
   "outputs": [],
   "source": [
    "get_Sentiment(\"Italy\")"
   ]
  },
  {
   "cell_type": "code",
   "execution_count": null,
   "metadata": {},
   "outputs": [],
   "source": [
    "get_Sentiment(\"India\")"
   ]
  },
  {
   "cell_type": "code",
   "execution_count": null,
   "metadata": {},
   "outputs": [],
   "source": [
    "#************************************************************************************************"
   ]
  },
  {
   "cell_type": "code",
   "execution_count": null,
   "metadata": {},
   "outputs": [],
   "source": [
    "#************************************************************************************************"
   ]
  },
  {
   "cell_type": "code",
   "execution_count": 8,
   "metadata": {},
   "outputs": [],
   "source": [
    "# Tweet per Country Worldmap"
   ]
  },
  {
   "cell_type": "code",
   "execution_count": 3,
   "metadata": {},
   "outputs": [],
   "source": [
    "import csv\n",
    "import pandas as pd\n",
    "import json,requests, ipyleaflet\n",
    "from ipyleaflet import Map, GeoJSON, LayersControl, Choropleth, Popup, LegendControl\n",
    "from ipywidgets import Label, HTML\n",
    "from branca.colormap import linear\n",
    "import branca.colormap as color"
   ]
  },
  {
   "cell_type": "code",
   "execution_count": 4,
   "metadata": {},
   "outputs": [],
   "source": [
    "world_geo =\"C:/Users/dennis/Desktop/BachelorArbeit/worldGeo2.json\"\n",
    "with open(world_geo, encoding =\"utf-8\") as l:\n",
    "    world_data = json.load(l)"
   ]
  },
  {
   "cell_type": "code",
   "execution_count": 5,
   "metadata": {},
   "outputs": [],
   "source": [
    "#Replace Country Names, so it matches with the names in GeoJSON\n",
    "old = [\"The Netherlands\",\"Republic of Latvia\",\"Republic of Lithuania\",\"Hong Kong\",\"Democratic Republic of Congo\",\n",
    "       \"Macau-China\",\"United States\",\"Serbia\",\"Vatican City\",\"The Gambia\",\"Tanzania\",\"St. Lucia\",\n",
    "       \"South Georgia and the South Sandwich Islands\",\"Congo\",\"Russian Federation\",\"Syrian Arab Republic\",\n",
    "       \"Bahama\",\"Côte D'ivoire (Ivory Coast)\",\"Islamic Republic of Iran\",\"Korea, Democratic People's Republic of\",\n",
    "       'Korea, Republic of',\"Libyan Arab Jamahiriya\",\"Macau\",'Moldova, Republic of',\"North Macedonia\",\n",
    "       'Trinidad & Tobago','Taiwan, Province of China','Tanzania, United Republic of',\"Viet Nam\",\"Antigua & Barbuda\",\n",
    "       \"CÃ´te D'ivoire (Ivory Coast)\",\"Islamic Republic of Iran\",\"Lao People's Democratic Republic\",\"Lybia\",\"Micronesia\",\n",
    "       \"Pitcairn\",\"Republic of the Congo\",\"Sao Tome & Principe\",\"St. Helena\",\"St. Pierre & Miquelon\",\"St. Vincent & the Grenadines\",\n",
    "       \"Turks & Caicos Islands\",\"Cook Iislands\",\"Guinea-Bissau\"]\n",
    "    \n",
    "\n",
    "new = [\"Netherlands\", \"Latvia\", \"Lithuania\", \"Hong Kong S.A.R.\", \"Democratic Republic of the Congo\",\n",
    "       \"Macao S.A.R\",\"United States of America\",\"Republic of Serbia\",\"Vatican\",\"Gambia\",\n",
    "       \"United Republic of Tanzania\",\"Saint Lucia\",\"South Georgia and South Sandwich Islands\",\n",
    "       \"Republic of Congo\",\"Russia\",\"Syria\",\"The Bahamas\",\"Ivory Coast\",\"Iran\",\"North Korea\",\"South Korea\",\n",
    "       \"Libya\",\"Macao S.A.R\",\"Moldova\",\"Macedonia\",'Trinidad and Tobago',\"Taiwan\",'United Republic of Tanzania',\n",
    "       \"Vietnam\",\"Antigua and Barbuda\",\"Ivory Coast\",\"Iran\",\"Laos\",\"Libya\",\"Federated States of Micronesia\",\n",
    "       \"Pitcairn Islands\",\"Republic of Congo\",\"Sao Tome and Principe\",\"Saint Helena\",\"Saint Pierre and Miquelon\",\n",
    "       \"Saint Vincent and the Grenadines\",\"Turks and Caicos Islands\",\"Cook Islands\",\"Guinea Bissau\"]"
   ]
  },
  {
   "cell_type": "code",
   "execution_count": 6,
   "metadata": {},
   "outputs": [],
   "source": [
    "df_merged_world= df_merged.replace(old, new )"
   ]
  },
  {
   "cell_type": "code",
   "execution_count": 7,
   "metadata": {},
   "outputs": [
    {
     "name": "stdout",
     "output_type": "stream",
     "text": [
      "184\n",
      "['Afghanistan', 'Albania', 'Algeria', 'Angola', 'Anguilla', 'Antigua and Barbuda', 'Argentina', 'Aruba', 'Australia', 'Austria', 'Azerbaijan', 'Bahrain', 'Bangladesh', 'Barbados', 'Belarus', 'Belgium', 'Benin', 'Bermuda', 'Bolivia', 'Bosnia and Herzegovina', 'Botswana', 'Brazil', 'Bulgaria', 'Burkina Faso', 'Cambodia', 'Cameroon', 'Canada', 'Cape Verde', 'Cayman Islands', 'Central African Republic', 'Chad', 'Chile', 'China', 'Christmas Island', 'Cocos (Keeling) Islands', 'Colombia', 'Cook Islands', 'Costa Rica', 'Croatia', 'Cuba', 'Cyprus', 'Czech Republic', 'Denmark', 'Dominican Republic', 'Ecuador', 'Egypt', 'El Salvador', 'Equatorial Guinea', 'Eritrea', 'Estonia', 'Ethiopia', 'Federated States of Micronesia', 'Finland', 'France', 'French Guiana', 'French Polynesia', 'French Southern Territories', 'Gabon', 'Georgia', 'Germany', 'Ghana', 'Greece', 'Greenland', 'Guadeloupe', 'Guatemala', 'Guernsey', 'Guinea Bissau', 'Guyana', 'Haiti', 'Honduras', 'Hong Kong S.A.R.', 'Hungary', 'Iceland', 'India', 'Indonesia', 'Iran', 'Iraq', 'Ireland', 'Isle of Man', 'Israel', 'Italy', 'Ivory Coast', 'Jamaica', 'Japan', 'Jersey', 'Jordan', 'Kazakhstan', 'Kenya', 'Kosovo', 'Kuwait', 'Kyrgyzstan', 'Laos', 'Latvia', 'Lebanon', 'Lesotho', 'Liberia', 'Libya', 'Lithuania', 'Macao S.A.R', 'Macedonia', 'Madagascar', 'Malawi', 'Malaysia', 'Maldives', 'Mali', 'Malta', 'Martinique', 'Mauritania', 'Mauritius', 'Mexico', 'Montenegro', 'Morocco', 'Mozambique', 'Myanmar', 'Namibia', 'Nepal', 'Netherlands', 'Netherlands Antilles', 'New Zealand', 'Nicaragua', 'Niger', 'Nigeria', 'Norway', 'Oman', 'Pakistan', 'Palestine', 'Panama', 'Papua New Guinea', 'Paraguay', 'Peru', 'Philippines', 'Pitcairn Islands', 'Poland', 'Portugal', 'Puerto Rico', 'Qatar', 'Republic of Congo', 'Republic of Serbia', 'Romania', 'Russia', 'Rwanda', 'RÃ©union', 'Saint Helena', 'Saint Pierre and Miquelon', 'Sao Tome and Principe', 'Saudi Arabia', 'Senegal', 'Seychelles', 'Singapore', 'Slovakia', 'Slovenia', 'Somalia', 'South Africa', 'South Korea', 'South Sudan', 'Spain', 'Sri Lanka', 'Sudan', 'Suriname', 'Swaziland', 'Sweden', 'Switzerland', 'Syria', 'Taiwan', 'Thailand', 'The Bahamas', 'Togo', 'Trinidad and Tobago', 'Tunisia', 'Turkey', 'Turks and Caicos Islands', 'Uganda', 'Ukraine', 'United Arab Emirates', 'United Kingdom', 'United Republic of Tanzania', 'United States of America', 'Uruguay', 'Uzbekistan', 'Venezuela', 'Vietnam', 'Yemen', 'Zambia', 'Zimbabwe']\n"
     ]
    }
   ],
   "source": [
    "#Get all countries found by GeoTool\n",
    "df_countries = df_merged_world[df_merged_world[\"country\"]!=\"null\"]\n",
    "countries = df_countries[\"country\"].unique()\n",
    "countries = list(countries)\n",
    "countries = [country for country in countries if str(country)!='nan']\n",
    "list_countries = sorted(countries)\n",
    "print(len(list_countries))\n",
    "print(list_countries)"
   ]
  },
  {
   "cell_type": "code",
   "execution_count": null,
   "metadata": {},
   "outputs": [],
   "source": [
    "# List containing Country Names within GeoJSON\n",
    "list_id=[]\n",
    "# List with Countries of GeoJson, which dont match results country Names\n",
    "noData = []\n",
    "#Dictionary with Country:TweetCount\n",
    "count={}\n",
    "\n",
    "#Add country name to id for each country in GeoJson\n",
    "for feature in world_data['features']:\n",
    "    properties = feature['properties']\n",
    "    feature[\"id\"] = properties[\"ADMIN\"]\n",
    "    list_id.append(feature[\"id\"])\n",
    "\n",
    "#Fill found countries in dict with tweet count value\n",
    "for country in list_countries:\n",
    "    notInGeo=[\"Christmas Island\",\"Guadeloupe\",\"Martinique\",\"Netherlands Antilles\",\"Palestinian Territories\",\"Reunion\"]\n",
    "    if country in notInGeo:\n",
    "        continue   \n",
    "    df_country = df_merged_world[df_merged_world[\"country\"]== country]\n",
    "\n",
    "    count[country]=len(df_country)    \n",
    "    \n",
    "#Create List of not found countries\n",
    "for country in list_id:\n",
    "    if country not in list_countries:\n",
    "        noData.append(country)\n",
    "        \n",
    "#Fill not found countries in dict with value 0        \n",
    "for country in noData:\n",
    "    count[country]=0\n",
    "\n",
    "# Methods for  Click Events, LegendControl\n",
    "\n",
    "#Get Coordinates\n",
    "def handle_interaction(**kwargs):\n",
    "    if kwargs.get('type') == 'mousemove':\n",
    "        label.value = str(kwargs.get('coordinates'))\n",
    "    return label.value\n",
    "\n",
    "# Click event -> PopUp\n",
    "def my_method(event=None, feature=None, id=None, properties=None): \n",
    "    if id in count.keys():\n",
    "        popup = HTML()\n",
    "        popup.value = str(id)+\" <br> Tweetcount: \"+str(count[id])\n",
    "\n",
    "        coordinates = handle_interaction()\n",
    "        coordinates = coordinates.replace('[', \"\")\n",
    "        coordinates = coordinates.replace(']', \"\")\n",
    "        split_coordinate = coordinates.split(\", \")\n",
    "        coordinates = [float(split_coordinate[0]),float(split_coordinate[1])]\n",
    "\n",
    "        popup = Popup(\n",
    "            location=coordinates,\n",
    "            child=popup,\n",
    "            close_button=True,\n",
    "            auto_close=True,\n",
    "            close_on_escape_key=True\n",
    "        )\n",
    "        m.add_layer(popup)\n",
    "\n",
    "colorScheme = [\"#FFFCFC\", \"#F1DCDC\",\"#DB8585\", \"#BB1216\",\"#6c0000\"]\n",
    "colormap_dept = color.StepColormap(colors=colorScheme,vmin=min(count.values()),vmax=max(count.values()),index=[0, 10000, 50000, 100000,1000000])\n",
    "legend = LegendControl({\"0 - 1K\":colorScheme[0], \"1K - 50K\":colorScheme[1],\"50K - 100K\":colorScheme[2],\"100K - 1M\":colorScheme[3],\"1M+\": colorScheme[4]},fontsize=2, name=\"Tweets count\", position=\"topright\")\n"
   ]
  },
  {
   "cell_type": "code",
   "execution_count": 35,
   "metadata": {
    "scrolled": false
   },
   "outputs": [
    {
     "name": "stdout",
     "output_type": "stream",
     "text": [
      "Christmas Island\n",
      "Cocos (Keeling) Islands\n",
      "French Guiana\n",
      "French Southern Territories\n",
      "Guadeloupe\n",
      "Martinique\n",
      "Netherlands Antilles\n",
      "RÃ©union\n",
      "******************\n",
      "['Aruba', 'Afghanistan', 'Angola', 'Anguilla', 'Albania', 'Aland', 'Andorra', 'United Arab Emirates', 'Argentina', 'Armenia', 'American Samoa', 'Antarctica', 'Ashmore and Cartier Islands', 'French Southern and Antarctic Lands', 'Antigua and Barbuda', 'Australia', 'Austria', 'Azerbaijan', 'Burundi', 'Belgium', 'Benin', 'Burkina Faso', 'Bangladesh', 'Bulgaria', 'Bahrain', 'The Bahamas', 'Bosnia and Herzegovina', 'Bajo Nuevo Bank (Petrel Is.)', 'Saint Barthelemy', 'Belarus', 'Belize', 'Bermuda', 'Bolivia', 'Brazil', 'Barbados', 'Brunei', 'Bhutan', 'Botswana', 'Central African Republic', 'Canada', 'Switzerland', 'Chile', 'China', 'Ivory Coast', 'Clipperton Island', 'Cameroon', 'Cyprus No Mans Area', 'Democratic Republic of the Congo', 'Republic of Congo', 'Cook Islands', 'Colombia', 'Comoros', 'Cape Verde', 'Costa Rica', 'Coral Sea Islands', 'Cuba', 'Curaçao', 'Cayman Islands', 'Northern Cyprus', 'Cyprus', 'Czech Republic', 'Germany', 'Djibouti', 'Dominica', 'Denmark', 'Dominican Republic', 'Algeria', 'Ecuador', 'Egypt', 'Eritrea', 'Dhekelia Sovereign Base Area', 'Spain', 'Estonia', 'Ethiopia', 'Finland', 'Fiji', 'Falkland Islands', 'France', 'Faroe Islands', 'Federated States of Micronesia', 'Gabon', 'United Kingdom', 'Georgia', 'Guernsey', 'Ghana', 'Gibraltar', 'Guinea', 'Gambia', 'Guinea Bissau', 'Equatorial Guinea', 'Greece', 'Grenada', 'Greenland', 'Guatemala', 'Guam', 'Guyana', 'Hong Kong S.A.R.', 'Heard Island and McDonald Islands', 'Honduras', 'Croatia', 'Haiti', 'Hungary', 'Indonesia', 'Isle of Man', 'India', 'Indian Ocean Territories', 'British Indian Ocean Territory', 'Ireland', 'Iran', 'Iraq', 'Iceland', 'Israel', 'Italy', 'Jamaica', 'Jersey', 'Jordan', 'Japan', 'Baykonur Cosmodrome', 'Siachen Glacier', 'Kazakhstan', 'Kenya', 'Kyrgyzstan', 'Cambodia', 'Kiribati', 'Saint Kitts and Nevis', 'South Korea', 'Kosovo', 'Kuwait', 'Laos', 'Lebanon', 'Liberia', 'Libya', 'Saint Lucia', 'Liechtenstein', 'Sri Lanka', 'Lesotho', 'Lithuania', 'Luxembourg', 'Latvia', 'Macao S.A.R', 'Saint Martin', 'Morocco', 'Monaco', 'Moldova', 'Madagascar', 'Maldives', 'Mexico', 'Marshall Islands', 'Macedonia', 'Mali', 'Malta', 'Myanmar', 'Montenegro', 'Mongolia', 'Northern Mariana Islands', 'Mozambique', 'Mauritania', 'Montserrat', 'Mauritius', 'Malawi', 'Malaysia', 'Namibia', 'New Caledonia', 'Niger', 'Norfolk Island', 'Nigeria', 'Nicaragua', 'Niue', 'Netherlands', 'Norway', 'Nepal', 'Nauru', 'New Zealand', 'Oman', 'Pakistan', 'Panama', 'Pitcairn Islands', 'Peru', 'Spratly Islands', 'Philippines', 'Palau', 'Papua New Guinea', 'Poland', 'Puerto Rico', 'North Korea', 'Portugal', 'Paraguay', 'Palestine', 'French Polynesia', 'Qatar', 'Romania', 'Russia', 'Rwanda', 'Western Sahara', 'Saudi Arabia', 'Scarborough Reef', 'Sudan', 'South Sudan', 'Senegal', 'Serranilla Bank', 'Singapore', 'South Georgia and South Sandwich Islands', 'Saint Helena', 'Solomon Islands', 'Sierra Leone', 'El Salvador', 'San Marino', 'Somaliland', 'Somalia', 'Saint Pierre and Miquelon', 'Republic of Serbia', 'Sao Tome and Principe', 'Suriname', 'Slovakia', 'Slovenia', 'Sweden', 'Swaziland', 'Sint Maarten', 'Seychelles', 'Syria', 'Turks and Caicos Islands', 'Chad', 'Togo', 'Thailand', 'Tajikistan', 'Turkmenistan', 'East Timor', 'Tonga', 'Trinidad and Tobago', 'Tunisia', 'Turkey', 'Tuvalu', 'Taiwan', 'United Republic of Tanzania', 'Uganda', 'Ukraine', 'United States Minor Outlying Islands', 'Uruguay', 'United States of America', 'US Naval Base Guantanamo Bay', 'Uzbekistan', 'Vatican', 'Saint Vincent and the Grenadines', 'Venezuela', 'British Virgin Islands', 'United States Virgin Islands', 'Vietnam', 'Vanuatu', 'Wallis and Futuna', 'Akrotiri Sovereign Base Area', 'Samoa', 'Yemen', 'South Africa', 'Zambia', 'Zimbabwe']\n",
      "{'Afghanistan': 200, 'Albania': 1, 'Algeria': 38540, 'Angola': 59, 'Anguilla': 18, 'Antigua and Barbuda': 1049, 'Argentina': 398, 'Aruba': 39, 'Australia': 46562, 'Austria': 545, 'Azerbaijan': 41, 'Bahrain': 262, 'Bangladesh': 1014, 'Barbados': 20, 'Belarus': 89, 'Belgium': 2326, 'Benin': 30, 'Bermuda': 1550, 'Bolivia': 61, 'Bosnia and Herzegovina': 28, 'Botswana': 411, 'Brazil': 7510, 'Bulgaria': 36, 'Burkina Faso': 221, 'Cambodia': 234, 'Cameroon': 51, 'Canada': 109667, 'Cape Verde': 200, 'Cayman Islands': 177, 'Central African Republic': 116, 'Chad': 279, 'Chile': 2789, 'China': 1478, 'Cocos (Keeling) Islands': 22, 'Colombia': 1173, 'Cook Islands': 2, 'Costa Rica': 736, 'Croatia': 365, 'Cuba': 373, 'Cyprus': 281, 'Czech Republic': 663, 'Denmark': 853, 'Dominican Republic': 55, 'Ecuador': 732, 'Egypt': 5364, 'El Salvador': 13, 'Equatorial Guinea': 709, 'Eritrea': 127, 'Estonia': 46, 'Ethiopia': 169, 'Federated States of Micronesia': 63, 'Finland': 412, 'France': 18453, 'French Guiana': 923, 'French Polynesia': 60, 'French Southern Territories': 404, 'Gabon': 48, 'Georgia': 3, 'Germany': 3192, 'Ghana': 6225, 'Greece': 1007, 'Greenland': 42, 'Guatemala': 23, 'Guernsey': 104, 'Guinea Bissau': 6, 'Guyana': 12, 'Haiti': 310, 'Honduras': 91, 'Hong Kong S.A.R.': 886, 'Hungary': 307, 'Iceland': 80, 'India': 263868, 'Indonesia': 51798, 'Iran': 18764, 'Iraq': 166, 'Ireland': 27417, 'Isle of Man': 204, 'Israel': 1648, 'Italy': 5046, 'Ivory Coast': 143, 'Jamaica': 1306, 'Japan': 4558, 'Jersey': 96, 'Jordan': 1538, 'Kazakhstan': 31, 'Kenya': 25161, 'Kosovo': 369, 'Kuwait': 925, 'Kyrgyzstan': 1, 'Laos': 218, 'Latvia': 16, 'Lebanon': 2262, 'Lesotho': 822, 'Liberia': 4, 'Libya': 7907, 'Lithuania': 3, 'Macao S.A.R': 11, 'Macedonia': 45, 'Madagascar': 8, 'Malawi': 160, 'Malaysia': 10599, 'Maldives': 2996, 'Mali': 4350, 'Malta': 15, 'Mauritania': 1, 'Mauritius': 314, 'Mexico': 4153, 'Montenegro': 22, 'Morocco': 4848, 'Mozambique': 28, 'Myanmar': 65, 'Namibia': 3342, 'Nepal': 148, 'Netherlands': 5485, 'New Zealand': 4138, 'Nicaragua': 121, 'Niger': 373, 'Nigeria': 95434, 'Norway': 526, 'Oman': 120, 'Pakistan': 11713, 'Palestine': 89, 'Panama': 397, 'Papua New Guinea': 1, 'Paraguay': 2, 'Peru': 1477, 'Philippines': 31143, 'Pitcairn Islands': 53, 'Poland': 125, 'Portugal': 5733, 'Puerto Rico': 341, 'Qatar': 449, 'Republic of Congo': 714, 'Republic of Serbia': 12, 'Romania': 169, 'Russia': 499, 'Rwanda': 16, 'RÃ©union': 11, 'Saint Helena': 925, 'Saint Pierre and Miquelon': 463, 'Sao Tome and Principe': 33, 'Saudi Arabia': 1933, 'Senegal': 68, 'Seychelles': 18, 'Singapore': 3789, 'Slovakia': 11, 'Slovenia': 184, 'Somalia': 178, 'South Africa': 39643, 'South Korea': 1514, 'South Sudan': 175, 'Spain': 95516, 'Sri Lanka': 3349, 'Sudan': 564, 'Suriname': 1, 'Swaziland': 65, 'Sweden': 734, 'Switzerland': 1611, 'Syria': 432, 'Taiwan': 1125, 'Thailand': 7440, 'The Bahamas': 3786, 'Togo': 48, 'Trinidad and Tobago': 384, 'Tunisia': 504, 'Turkey': 1105, 'Turks and Caicos Islands': 38, 'Uganda': 7384, 'Ukraine': 93, 'United Arab Emirates': 2815, 'United Kingdom': 411376, 'United Republic of Tanzania': 326, 'United States of America': 5402134, 'Uruguay': 109, 'Uzbekistan': 26, 'Venezuela': 92, 'Vietnam': 966, 'Yemen': 76, 'Zambia': 139, 'Zimbabwe': 76, 'Aland': 0, 'Andorra': 0, 'Armenia': 0, 'American Samoa': 0, 'Antarctica': 0, 'Ashmore and Cartier Islands': 0, 'French Southern and Antarctic Lands': 0, 'Burundi': 0, 'Bajo Nuevo Bank (Petrel Is.)': 0, 'Saint Barthelemy': 0, 'Belize': 0, 'Brunei': 0, 'Bhutan': 0, 'Clipperton Island': 0, 'Cyprus No Mans Area': 0, 'Democratic Republic of the Congo': 0, 'Comoros': 0, 'Coral Sea Islands': 0, 'Curaçao': 0, 'Northern Cyprus': 0, 'Djibouti': 0, 'Dominica': 0, 'Dhekelia Sovereign Base Area': 0, 'Fiji': 0, 'Falkland Islands': 0, 'Faroe Islands': 0, 'Gibraltar': 0, 'Guinea': 0, 'Gambia': 0, 'Grenada': 0, 'Guam': 0, 'Heard Island and McDonald Islands': 0, 'Indian Ocean Territories': 0, 'British Indian Ocean Territory': 0, 'Baykonur Cosmodrome': 0, 'Siachen Glacier': 0, 'Kiribati': 0, 'Saint Kitts and Nevis': 0, 'Saint Lucia': 0, 'Liechtenstein': 0, 'Luxembourg': 0, 'Saint Martin': 0, 'Monaco': 0, 'Moldova': 0, 'Marshall Islands': 0, 'Mongolia': 0, 'Northern Mariana Islands': 0, 'Montserrat': 0, 'New Caledonia': 0, 'Norfolk Island': 0, 'Niue': 0, 'Nauru': 0, 'Spratly Islands': 0, 'Palau': 0, 'North Korea': 0, 'Western Sahara': 0, 'Scarborough Reef': 0, 'Serranilla Bank': 0, 'South Georgia and South Sandwich Islands': 0, 'Solomon Islands': 0, 'Sierra Leone': 0, 'San Marino': 0, 'Somaliland': 0, 'Sint Maarten': 0, 'Tajikistan': 0, 'Turkmenistan': 0, 'East Timor': 0, 'Tonga': 0, 'Tuvalu': 0, 'United States Minor Outlying Islands': 0, 'US Naval Base Guantanamo Bay': 0, 'Vatican': 0, 'Saint Vincent and the Grenadines': 0, 'British Virgin Islands': 0, 'United States Virgin Islands': 0, 'Vanuatu': 0, 'Wallis and Futuna': 0, 'Akrotiri Sovereign Base Area': 0, 'Samoa': 0}\n"
     ]
    }
   ],
   "source": [
    "#not in geo : Cocos (Keeling) Islands, French Guiana, French Southern Territories, Guadeloupe, Martinique, \n",
    "#Netherlands Antilles, RÃ©union, Palestinian Territories,Christmas Island\n",
    "\n",
    "for country in list_countries:\n",
    "    if country not in list_id:\n",
    "        print(country)\n",
    "print(\"******************\")\n",
    "print(list_id)\n",
    "print(count)"
   ]
  },
  {
   "cell_type": "code",
   "execution_count": 36,
   "metadata": {},
   "outputs": [
    {
     "data": {
      "application/vnd.jupyter.widget-view+json": {
       "model_id": "cd1e49f1a0d94ecca48c449479e1dac0",
       "version_major": 2,
       "version_minor": 0
      },
      "text/plain": [
       "Map(center=[35.52978589571, 7.84580993652344], controls=(AttributionControl(options=['position', 'prefix'], po…"
      ]
     },
     "metadata": {},
     "output_type": "display_data"
    }
   ],
   "source": [
    "from ipyleaflet import Map, basemaps\n",
    "\n",
    "label = Label()\n",
    "m = Map(layers=(),center=(35.52978589571, 7.84580993652344),zoom_control=False,zoom=2)\n",
    "\n",
    "layer = ipyleaflet.Choropleth(\n",
    "    geo_data= world_data,\n",
    "    choro_data=count,\n",
    "    key_on=\"id\",\n",
    "    colormap=colormap_dept,\n",
    "    style={'fillOpacity': 1}\n",
    ")\n",
    "\n",
    "layer.on_click(my_method)\n",
    "m.on_interaction(handle_interaction)\n",
    "m.add_layer(layer)\n",
    "m.add_control(legend)\n",
    "m.layout.height = '800px'\n",
    "m"
   ]
  },
  {
   "cell_type": "code",
   "execution_count": 17,
   "metadata": {},
   "outputs": [],
   "source": [
    "#************************************************************************************************"
   ]
  },
  {
   "cell_type": "code",
   "execution_count": 18,
   "metadata": {},
   "outputs": [],
   "source": [
    "#************************************************************************************************"
   ]
  },
  {
   "cell_type": "code",
   "execution_count": 37,
   "metadata": {},
   "outputs": [],
   "source": [
    "# Analyse Retweet, Follower, Likes for Specific country ( Map )"
   ]
  },
  {
   "cell_type": "code",
   "execution_count": 38,
   "metadata": {},
   "outputs": [],
   "source": [
    "# Methods for  Click Events\n",
    "\n",
    "#Get Coordinates\n",
    "def handle_interaction_country(**kwargs):\n",
    "    if kwargs.get('type') == 'mousemove':\n",
    "        label.value = str(kwargs.get('coordinates'))\n",
    "    return label.value\n",
    "\n",
    "# Click event -> PopUp\n",
    "def set_popUp(event=None, feature=None, id=None, properties=None): \n",
    "    if id in data.keys():\n",
    "        popup = HTML()\n",
    "        popup.value = str(id)+\" <br> Average: \"+str(data[id])\n",
    "\n",
    "        coordinates = handle_interaction()\n",
    "        coordinates = coordinates.replace('[', \"\")\n",
    "        coordinates = coordinates.replace(']', \"\")\n",
    "        split_coordinate = coordinates.split(\", \")\n",
    "        coordinates = [float(split_coordinate[0]),float(split_coordinate[1])]\n",
    "\n",
    "        popup = Popup(\n",
    "            location=coordinates,\n",
    "            child=popup,\n",
    "            close_button=True,\n",
    "            auto_close=True,\n",
    "            close_on_escape_key=True\n",
    "        )\n",
    "        m.add_layer(popup)"
   ]
  },
  {
   "cell_type": "code",
   "execution_count": 39,
   "metadata": {},
   "outputs": [],
   "source": [
    "import json\n",
    "spain_geo = 'C:/Users/dennis/Desktop/Bachelorarbeit/states/spain/states.geojson'\n",
    "germany_geo = 'C:/Users/dennis/Desktop/Bachelorarbeit/states/germany/states.geojson'\n",
    "france_geo='C:/Users/dennis/Desktop/Bachelorarbeit/states/france/states.geojson'\n",
    "italy_geo = 'C:/Users/dennis/Desktop/Bachelorarbeit/states/italy/states.geojson'\n",
    "india_geo = 'C:/Users/dennis/Desktop/Bachelorarbeit/states/india/states.geojson'\n",
    "us_geo = 'C:/Users/dennis/Desktop/Bachelorarbeit/states/united states/states.geojson'\n",
    "uk_geo = 'C:/Users/dennis/Desktop/Bachelorarbeit/states/united kingdom/states.geojson'\n",
    "\n",
    "\n",
    "with open(germany_geo,encoding='utf-8') as f:\n",
    "    german_data = json.load(f)\n",
    "    \n",
    "with open(spain_geo, encoding=\"utf-8\")as g:\n",
    "    spain_data = json.load(g)\n",
    "    \n",
    "with open(france_geo,encoding='utf-8') as h:\n",
    "    france_data = json.load(h)\n",
    "    \n",
    "with open(italy_geo,encoding='utf-8') as j:\n",
    "    italy_data = json.load(j)\n",
    "\n",
    "with open(india_geo, encoding =\"utf-8\") as k:\n",
    "    india_data = json.load(k)\n",
    "\n",
    "with open(us_geo, encoding =\"utf-8\") as l:\n",
    "    us_data = json.load(l)\n",
    "\n",
    "with open(uk_geo,encoding='utf-8') as f:\n",
    "    uk_data = json.load(f)    \n",
    "    \n",
    "for feature in spain_data['features']:\n",
    "    properties = feature['properties']\n",
    "    feature.update(id=properties['name'])\n",
    "for feature in german_data['features']:\n",
    "    properties = feature['properties']\n",
    "    feature.update(id=properties['name'])\n",
    "for feature in france_data['features']:   \n",
    "    properties = feature['properties']\n",
    "    feature.update(id = properties['nom'])\n",
    "for feature in italy_data['features']:   \n",
    "    properties = feature['properties']\n",
    "    feature.update(id = properties['id'])\n",
    "for feature in india_data['features']:   \n",
    "    properties = feature['properties']\n",
    "    feature.update(id = properties['st_nm'])\n",
    "for feature in us_data['features']:   \n",
    "    properties = feature['properties']\n",
    "    feature.update(id = properties['name'])\n",
    "for feature in uk_data['features']:\n",
    "    properties = feature['properties']\n",
    "    feature.update(id = properties['NAME_2'])"
   ]
  },
  {
   "cell_type": "code",
   "execution_count": 55,
   "metadata": {},
   "outputs": [],
   "source": [
    "# edit states to match geoJson \n",
    "def edit_states(country, df_country):\n",
    "    \n",
    "    if country == \"Spain\":\n",
    "        # Castilla-Leon, Catalonia, Ceuta, Murcia, La Rioja, Baleares, Canarias, Cantabria, Andalucia,\n",
    "        # Asturias, Valencia, Melilla, Navarra, Galicia, Aragon, Madrid, Extremadura, \n",
    "        # Castilla-La Mancha, Pais Vasco\n",
    "        \n",
    "        oldRegions=[\"Andalucía\",\"Andalusia\",\"Comunidad de Madrid\",\"Canary Islands\",\n",
    "                    \"Balearic Islands\",\"Castilla-la Mancha\",\"Ciudad Autónoma de Melilla\",\n",
    "                    \"Comunidad Valenciana\",\"Islas Baleares\",\"Castilla y Leon\",\"Basque Country\",\n",
    "                    \"Castille and Leon\",\"Navarre\",\"Castille-La Mancha\",\"Pais Vaso\",\"Basque\"]\n",
    "        \n",
    "        newRegions=[\"Andalucia\",\"Andalucia\",\"Madrid\",\"Canarias\",\"Baleares\",\"Castilla-La Mancha\",\"Melilla\",\"Valencia\",\n",
    "                    \"Baleares\",\"Castilla-Leon\",\"Pais Vasco\",\"Castilla-Leon\",\"Navarra\",\"Castilla-La Mancha\",\"Pais Vasco\",\"Pais Vasco\"]\n",
    "        df_country =df_country.replace(oldRegions,newRegions)\n",
    "\n",
    "    elif country == \"Germany\":\n",
    "        # Baden-Württemberg,Bayern, Berlin, Brandenburg, Bremen, Hamburg, Hessen, Mecklenburg-Vorpommern,\n",
    "        # Niedersachsen, Nordrhein-Westfalen, Rheinland-Pfalz, Saarland, Sachsen-Anhalt, Sachsen,\n",
    "        # Schleswig-Holstein, Thüringen\n",
    "\n",
    "        oldRegions=[\"North Rhine-Westphalia\",\"North-Rhine-Westphalia\",\"Bavaria\",\"Saxony\",\"Hesse\",\n",
    "                    \"Lower-Saxony\",\"Baden-Wurttemberg\",\"Thuringen\",\"Baden-Wuerttemberg\",\"Lower Saxony\",\"Saxony-Anhalt\",\n",
    "                    \"Thuringia\"]\n",
    "        \n",
    "        newRegions=[\"Nordrhein-Westfalen\",\"Nordrhein-Westfalen\",\"Bayern\",\"Sachsen\",\"Hessen\",\n",
    "                    \"Niedersachsen\",\"Baden-Württemberg\",\"Thüringen\",\"Baden-Württemberg\",\"Niedersachsen\",\"Sachsen-Anhalt\",\n",
    "                    \"Thüringen\"]\n",
    "        df_country=df_country.replace(oldRegions,newRegions)\n",
    "\n",
    "    elif country == \"France\":\n",
    "        # Île-de-France, Centre-Val de Loire, Bourgogne-Franche-Comté, Normandie, Hauts-de-France, Grand Est\n",
    "        # Pays de la Loire, Bretagne, Nouvelle-Aquitaine, Guadeloupe, Martinique, Guyane, La Réunion, Mayotte, \n",
    "        # Occitanie, Auvergne-Rhône-Alpes, Provence-Alpes-Côte d'Azur, Corse\n",
    "\n",
    "        oldRegions=[\"Ile-de-France\",\"Nord-Pas-de-Calais\",\"Rhone-Alpes\",\"Aquitaine\",\n",
    "                    \"Lorraine\",\"Brittany\",\"Centre\",\"Midi-Pyrénées\",\"Bourgogne\",\"Alsace\",\"Picardie\",'Rhone-Alpes',\n",
    "                    'Basse-Normandie',\"Ile-de-France\",\"Limousin\",\"Languedoc-Roussillon\",\"Champagne-Ardenne\",\"Haute-Normandie\",\n",
    "                    \"Midi-Pyrenees\",\"Franche-Comte\",\"Poitou-Charentes\",\"Auvergne\",\"Provence-Alpes-Cote d'Azur\",\"Corsica\",\n",
    "                    \"Lower Normandy\"]\n",
    "        \n",
    "        newRegions=[\"Île-de-France\",\"Hauts-de-France\",\"Auvergne-Rhône-Alpes\",\"Nouvelle-Aquitaine\",\n",
    "                    \"Grand Est\",\"Bretagne\",\"Centre-Val de Loire\",\"Occitanie\",\"Bourgogne-Franche-Comté\",\"Grand Est\",\n",
    "                    \"Hauts-de-France\",\"Auvergne-Rhône-Alpes\",\"Normandie\",\"Île-de-France\",\"Nouvelle-Aquitaine\",\n",
    "                    \"Occitanie\",\"Grand Est\",\"Normandie\",\"Occitanie\",\"Bourgogne-Franche-Comté\",\"Nouvelle-Aquitaine\",\"Auvergne-Rhône-Alpes\",\n",
    "                    \"Provence-Alpes-Côte d'Azur\",\"Corse\",\"Normandie\"]\n",
    "        df_country = df_country.replace(oldRegions,newRegions)\n",
    "        \n",
    "    elif country ==\"India\":\n",
    "        # Telangana, Andaman & Nicobar Island, Andhra Pradesh, Arunanchal Pradesh, Assam, Bihar, Chhattisgarh,\n",
    "        # Daman & Diu, Goa, Gujarat, Haryana, Himachal Pradesh, Jammu & Kashmir, Jharkhand, Karnataka\n",
    "        # Kerala, Lakshadweep, Madhya Pradesh, Maharashtra, Manipur, Chandigarh, Puducherry,\n",
    "        # Punjab, Rajasthan, Sikkim, Tamil Nadu , Tripura, Uttar Pradesh, Uttarakhand, West Bengal,\n",
    "        # Odisha, Dadara & Nagar Havelli, Meghalaya, Mizoram, Nagaland, NCT of Delhi\n",
    "        \n",
    "        oldRegions=[\"Delhi\",\"Jammu and Kashmir\",\"Orissa\",\"NCT\",\"Andaman and Nicobar Islands\",\"Dadra and Nagar Haveli\",\n",
    "                    \"Kashmir\"]\n",
    "        \n",
    "        newRegions=[\"NCT of Delhi\",\"Jammu & Kashmir\",\"Odisha\",\"NCT of Delhi\",\"Andaman & Nicobar Island\",\n",
    "                   \"Dadara & Nagar Havelli\",\"Jammu & Kashmir\"]\n",
    "        df_country= df_country.replace(oldRegions,newRegions)\n",
    "        \n",
    "    elif country == \"Italy\":\n",
    "        # Abruzzo, Puglia, Basilicata, Campania, Emilia-Romagna, Friuli-Venezia Giulia, Lazio, Liguria\n",
    "        # Lombardia, Marche, Molise, Piemonte, Sardegna, Sicilia, Toscana, Trentino-Alto Adige, Umbria\n",
    "        # Valle d'Aosta, Veneto, Calabria\n",
    "        \n",
    "        oldRegions=[\"Latium\",\"Lombardy\",\"Piedmont\",\"Tuscany\",\"Emilia Romagna\",\"Sicily\",\"Abruzzi\",\"Apulia\",\n",
    "                    \"Basilicate\",\"Friuli Venezia Giulia\",\"Sardinia\",\"The Marches\",\"Aosta Valley\"]\n",
    "        \n",
    "        newRegions=[\"Lazio\",\"Lombardia\",\"Piemonte\",\"Toscana\",\"Emilia-Romagna\",\"Sicilia\",\"Abruzzo\",\"Puglia\",\n",
    "                    \"Basilicata\",\"Friuli-Venezia Giulia\",\"Sardegna\",\"Marche\",\"Valle d'Aosta\"]\n",
    "        df_country = df_country.replace(oldRegions,newRegions)\n",
    "        \n",
    "    elif country == \"United States\":\n",
    "        # Alabama,Alaska, Arizona, Arkansas, California, Colorado, Connecticut, Delaware, District of Columbia,\n",
    "        # Florida, Georgia, Hawaii, Idaho, Illinois, Indiana, Iowa, Kansas, Kentucky, Louisiana, Maine, Maryland,\n",
    "        # Massachusetts, Michigan, Minnesota, Mississippi, Missouri, Montana, Nebraska, Nevada, New Hampshire,\n",
    "        # New Jersey, New Mexico, New York, North Carolina, North Dakota, Ohio, Oklahoma, Oregon, Pennsylvania,\n",
    "        # , Rhode Island, South Carolina, South Dakota, Tennessee, Texas, Utah, Vermont, Virginia, Washington,\n",
    "        # West Virginia, Wisconsin, Wyoming, Puerto Rico\n",
    "        oldRegions=[\"Washington, D.C\",\"Washington, D.C.\"]\n",
    "        newRegions=[\"District of Columbia\",\"District of Columbia\"]\n",
    "        df_country = df_country.replace(oldRegions,newRegions)\n",
    "        # MISSING: GUAM, US Virgin Islands, Northern Mariana Islands        \n",
    "\n",
    "        \n",
    "    elif country == \"United Kingdom\":\n",
    "        oldRegions=[\"Greater London\",\"Aberdeen City\",\"Borough of Bolton\",\"Borough of Halton\",\"Borough of Oldham\",\"Borough of Stockport\",\n",
    "                   \"Borough of Swindon\",\"Borough of Torbay\",\"Borough of Wigan\",\"Bracknell Forest\",\"Bradford\",\"Cheshire West and Chester\",\n",
    "                   \"City and Borough of Birmingham\",\"City and Borough of Leeds\",\"City and Borough of Salford\",\"City and Borough of Wakefield\",\n",
    "                   \"City and County of Swansea\",\"City of Belfast\",\"City of Kingston upon Hull\",\"City of Leicester\",\"County Durham\",\"Coventry\",\n",
    "                   \"Dudley\",\"Dundee City\",\"Glasgow City\",\"Kirklees\",\"Liverpool\",\"Metropolitan Borough of Wirral\",\"Newcastle upon Tyne\",\n",
    "                   \"Rhondda Cynon Taf\",\"Rotherham\",\"Sefton\",\"Sheffield\",\"Slough\",\"Solihull\",\"South Tyneside\",\"St. Helens\",\"Trafford\",\"Wolverhampton\",\n",
    "                   \"City of Bristol\",\"Cleveland\",\"Cornwall and Isles of Scilly\",\"County Antrim\",\"County Down\",\"County Fermanagh\",\"Grampian\",\n",
    "                   \"Greater Manchester\",\"Londonderry\",\"Middlesex\",\"Pembrokeshire County\",\"Powys County\",\"Rhondda Cynon Taff County Borough\",\n",
    "                   \"Birmingham\",\"Blackpool\",\"Calderdale\",\"Central Bedfordshire\",\"Cheshire East\",\"Gateshead\",\"Leeds\",\"Oldham\",\"Reading\",\n",
    "                   \"Rhondda Cynon Taff\",\"Sandwell\",\"Stockport\",\"Sunderland\",\"Wakefield\",\"Walsall\",\"Wigan\",\"Wirral\",\"Chesire\",\"Barnsley\",\n",
    "                   \"Bedford\",\"Borough of Bury\",\"Borough of North Tyneside\",\"Borough of Rochdale\",\"Borough of Tameside\",\"Bridgend county borough\",\n",
    "                   \"Caerphilly County Borough\",\"Chesire\",\"City of York\",\"County of Ceredigion\",\"County of Flintshire\",\"District of Rutland\",\n",
    "                   \"Doncaster\",\"Knowsley\",\"Royal Borough of Windsor and Maidenhead\",\"Sir Powys\",\"The Scottish Borders\",\"Torfaen County Borough\",\n",
    "                   \"West Berkshire\",\"Wokingham\",\"Stirlingshire\",\"Strathclyde\",\"West Glamorgan\"]\n",
    "        \n",
    "        newRegions=[\"London\",\"Aberdeen\",\"Manchester\",\"Chesire\",\"Manchester\",\"Manchester\",\"Swindon\",\"Torbay\",\"Manchester\",\"Berkshire\",\n",
    "                   'West Yorkshire',\"Cheshire\",\"West Midlands\",\"West Yorkshire\",\"Manchester\",\"West Yorkshire\",\"Swansea\",\"Belfast\",\"East Riding of Yorkshire\",\n",
    "                   \"Leicestershire\",\"Durham\",\"West Midlands\",\"West Midlands\",\"Dundee\",\"Glasgow\",\"West Yorkshire\",\"Merseyside\",\"Merseyside\",\"Tyne and Wear\",\n",
    "                   \"Rhondda, Cynon, Taff\",\"South Yorkshire\",\"Merseyside\",\"South Yorkshire\",\"Berkshire\",\"West Midlands\",\"Tyne and Wear\",\"Merseyside\",\n",
    "                   \"Manchester\",\"West Midlands\",\"Bristol\",\"Redcar and Cleveland\",\"Cornwall\",\"Antrim\",\"Down\",\"Fermanagh\",\"Aberdeenshire\",\n",
    "                   \"Manchester\",\"Derry\",\"London\",\"Pembrokeshire\",\"Powys\",\"Rhondda, Cynon, Taff\",\"West Midlands\",\"Lancashire\",\"West Yorkshire\",\n",
    "                   \"Bedfordshire\",\"Cheshire\",\"Tyne and Wear\",\"West Yorkshire\",\"Manchester\",\"Berkshire\",\"Rhondda, Cynon, Taff\",\"West Midlands\",\n",
    "                   \"Manchester\",\"Tyne and Wear\",\"West Yorkshire\",\"West Midlands\",\"Manchester\",\"Merseyside\",\"Cheshire\",\"South Yorkshire\",\n",
    "                   \"Bedfordshire\",\"Manchester\",\"Tyne and Wear\",\"Manchester\",\"Manchester\",\"Bridgend\",\"Caerphilly\",\"Cheshire\",\"York\",\"Ceredigion\",\n",
    "                   \"Flintshire\",\"Rutland\",\"South Yorkshire\",\"Merseyside\",\"Berkshire\",\"Powys\",\"Scottish Borders\",\"Torfaen\",\"Berkshire\",\"Berkshire\",\n",
    "                   \"Stirling\",\"Glasgow\",\"Swansea\"]\n",
    "        df_country = df_country.replace(oldRegions,newRegions)\n",
    "        \n",
    "    return df_country\n",
    "\n",
    "#Fill not Found Counties with Value 0\n",
    "def fill_states(country,stateCounts):\n",
    "    \n",
    "    if country == \"Germany\":\n",
    "        regions =[\"Baden-Württemberg\",\"Bayern\", \"Berlin\", \"Brandenburg\", \"Bremen\", \"Hamburg\", \"Hessen\", \"Mecklenburg-Vorpommern\",\n",
    "                  \"Niedersachsen\", \"Nordrhein-Westfalen\", \"Rheinland-Pfalz\", \"Saarland\", \"Sachsen-Anhalt\", \"Sachsen\",\n",
    "                  \"Schleswig-Holstein\", \"Thüringen\"]\n",
    "        \n",
    "    elif country ==\"Spain\":\n",
    "        regions = [ \"Castilla-Leon\", \"Catalonia\", \"Ceuta\", \"Murcia\", \"La Rioja\", \"Baleares\", \"Canarias\", \"Cantabria\", \"Andalucia\",\n",
    "                    \"Asturias\", \"Valencia\", \"Melilla\", \"Navarra\", \"Galicia\", \"Aragon\", \"Madrid\", \"Extremadura\", \n",
    "                    \"Castilla-La Mancha\", \"Pais Vasco\"]\n",
    "                    \n",
    "    elif country == \"France\":\n",
    "        regions =[ \"Île-de-France\", \"Centre-Val de Loire\", \"Bourgogne-Franche-Comté\", \"Normandie\", \"Hauts-de-France\", \n",
    "                  \"Grand Est\", \"Pays de la Loire\", \"Bretagne\", \"Nouvelle-Aquitaine\", \"Guadeloupe\", \"Martinique\", \n",
    "                  \"Guyane\", \"La Réunion\", \"Mayotte\", \"Occitanie\", \"Auvergne-Rhône-Alpes\", \"Provence-Alpes-Côte d'Azur\", \"Corse\"]\n",
    "    \n",
    "    elif country == \"Italy\":\n",
    "        regions = [ \"Abruzzo\", \"Basilicata\", \"Campania\", \"Emilia-Romagna\", \"Friuli-Venezia Giulia\", \"Lazio\",\n",
    "                   \"Liguria\", \"Lombardia\", \"Marche\", \"Molise\", \"Piemonte\", \"Sardegna\", \"Sicilia\", \"Toscana\", \"Trentino-Alto Adige\", \n",
    "                   \"Umbria\", \"Valle d'Aosta\", \"Veneto\",\"Puglia\",\"Calabria\"]\n",
    "        \n",
    "    elif country ==\"India\":\n",
    "        regions = [\"Telangana\", \"Andaman & Nicobar Island\", \"Andhra Pradesh\",\"Arunanchal Pradesh\", \"Assam\", \"Bihar\", \"Chhattisgarh\",\n",
    "                 \"Daman & Diu\", \"Goa\", \"Gujarat\", \"Haryana\", \"Himachal Pradesh\", \"Jammu & Kashmir\", \"Jharkhand\", \"Karnataka\",\n",
    "                 \"Kerala\", \"Lakshadweep\", \"Madhya Pradesh\", \"Maharashtra\", \"Manipur\", \"Chandigarh\", \"Puducherry\",\n",
    "                 \"Punjab\", \"Rajasthan\", \"Sikkim\", \"Tamil Nadu\" , \"Tripura\", \"Uttar Pradesh\", \"Uttarakhand\", \"West Bengal\",\n",
    "                 \"Odisha\", \"Dadara & Nagar Havelli\", \"Meghalaya\", \"Mizoram\", \"Nagaland\", \"NCT of Delhi\"]\n",
    "    \n",
    "    elif country == \"United States\":\n",
    "        regions =[\"Alabama\",\"Alaska\", \"Arizona\", \"Arkansas\", \"California\", \"Colorado\", \"Connecticut\", \"Delaware\", \"District of Columbia\",\n",
    "                 \"Florida\", \"Georgia\", \"Hawaii\", \"Idaho\", \"Illinois\", \"Indiana\", \"Iowa\", \"Kansas\", \"Kentucky\", \"Louisiana\", \"Maine\", \"Maryland\",\n",
    "                 \"Massachusetts\", \"Michigan\", \"Minnesota\", \"Mississippi\", \"Missouri\", \"Montana\", \"Nebraska\", \"Nevada\", \"New Hampshire\",\n",
    "                 \"New Jersey\", \"New Mexico\", \"New York\", \"North Carolina\", \"North Dakota\", \"Ohio\", \"Oklahoma\", \"Oregon\", \"Pennsylvania\",\n",
    "                 \"Rhode Island\", \"South Carolina\", \"South Dakota\", \"Tennessee\", \"Texas\", \"Utah\", \"Vermont\", \"Virginia\", \"Washington\",\n",
    "                 \"West Virginia\", \"Wisconsin\", \"Wyoming\", \"Puerto Rico\"]\n",
    "    \n",
    "    elif country ==\"United Kingdom\":\n",
    "        regions=['Barking and Dagenham', 'Bath and North East Somerset', 'Bedfordshire', 'Berkshire', 'Bexley', 'Blackburn with Darwen', \n",
    "                 'Bournemouth', 'Brent', 'Brighton and Hove', 'Bristol', 'Bromley', 'Buckinghamshire', 'Cambridgeshire', 'Camden', 'Cheshire', \n",
    "                 'Cornwall', 'Croydon', 'Cumbria', 'Darlington', 'Derbyshire', 'Derby', 'Devon', 'Dorset', 'Durham', 'Ealing', \n",
    "                 'East Riding of Yorkshire', 'East Sussex', 'Enfield', 'Essex', 'Gloucestershire', 'Greenwich', 'Hackney', 'Halton', \n",
    "                 'Hammersmith and Fulham', 'Hampshire', 'Haringey', 'Harrow', 'Hartlepool', 'Havering', 'Herefordshire', 'Hertfordshire', \n",
    "                 'Hillingdon', 'Hounslow', 'Isle of Wight', 'Islington', 'Kensington and Chelsea', 'Kent', 'Kingston upon Hull', \n",
    "                 'Kingston upon Thames', 'Lambeth', 'Lancashire', 'Leicestershire', 'Leicester', 'Lewisham', 'Lincolnshire', 'London', \n",
    "                 'Luton', 'Manchester', 'Medway', 'Merseyside', 'Merton', 'Middlesbrough', 'Milton Keynes', 'Newham', 'Norfolk', \n",
    "                 'North East Lincolnshire', 'North Lincolnshire', 'North Somerset', 'North Yorkshire', 'Northamptonshire', \n",
    "                 'Northumberland', 'Nottinghamshire', 'Nottingham', 'Oxfordshire', 'Peterborough', 'Plymouth', 'Poole', 'Portsmouth', \n",
    "                 'Redbridge', 'Redcar and Cleveland', 'Richmond upon Thames', 'Rutland', 'Shropshire', 'Somerset', 'South Gloucestershire', \n",
    "                 'South Yorkshire', 'Southampton', 'Southend-on-Sea', 'Southwark', 'Staffordshire', 'Stockton-on-Tees', 'Stoke-on-Trent', \n",
    "                 'Suffolk', 'Surrey', 'Sutton', 'Swindon', 'Telford and Wrekin', 'Thurrock', 'Torbay', 'Tower Hamlets', 'Tyne and Wear', \n",
    "                 'Waltham Forest', 'Wandsworth', 'Warrington', 'Warwickshire', 'West Midlands', 'West Sussex', 'West Yorkshire', \n",
    "                 'Westminster', 'Wiltshire', 'Worcestershire', 'York', 'Antrim', 'Ards', 'Armagh', 'Ballymena', 'Ballymoney', 'Banbridge', \n",
    "                 'Belfast', 'Carrickfergus', 'Castlereagh', 'Coleraine', 'Cookstown', 'Craigavon', 'Derry', 'Down', 'Dungannon', 'Fermanagh', \n",
    "                 'Larne', 'Limavady', 'Lisburn', 'Magherafelt', 'Moyle', 'Newry and Mourne', 'Newtownabbey', 'North Down', 'Omagh', 'Strabane', \n",
    "                 'Aberdeenshire', 'Aberdeen', 'Angus', 'Argyll and Bute', 'Clackmannanshire', 'Dumfries and Galloway', 'Dundee', 'East Ayrshire', \n",
    "                 'East Dunbartonshire', 'East Lothian', 'East Renfrewshire', 'Edinburgh', 'Eilean Siar', 'Falkirk', 'Fife', 'Glasgow', 'Highland', \n",
    "                 'Inverclyde', 'Midlothian', 'Moray', 'North Ayshire', 'North Lanarkshire', 'Orkney Islands', 'Perthshire and Kinross', \n",
    "                 'Renfrewshire', 'Scottish Borders', 'Shetland Islands', 'South Ayrshire', 'South Lanarkshire', 'Stirling', 'West Dunbartonshire', \n",
    "                 'West Lothian', 'Anglesey', 'Blaenau Gwent', 'Bridgend', 'Caerphilly', 'Cardiff', 'Carmarthenshire', 'Ceredigion', 'Conwy', \n",
    "                 'Denbighshire', 'Flintshire', 'Gwynedd', 'Merthyr Tydfil', 'Monmouthshire', 'Neath Port Talbot', 'Newport', 'Pembrokeshire', \n",
    "                 'Powys', 'Rhondda, Cynon, Taff', 'Swansea', 'Torfaen', 'Vale of Glamorgan', 'Wrexham']\n",
    "\n",
    "    for region in regions:    \n",
    "        if region not in stateCounts:\n",
    "            #print(region)\n",
    "            stateCounts[region]=0\n",
    "    print(sorted(regions))                   \n",
    "    return stateCounts\n",
    "\n",
    "def avg_FRL(df_state,state):    \n",
    "    count_retweet=0\n",
    "    count_follower=0\n",
    "    count_favorite=0\n",
    "    count=0\n",
    "    for index,line in df_state.iterrows():  \n",
    "        retweet=int(line[\"Retweets\"])\n",
    "        follower=int(line[\"Follower\"])\n",
    "        favorites=int(line[\"Favorites\"])\n",
    "\n",
    "        count_retweet=count_retweet+retweet\n",
    "        count_follower=count_follower+follower\n",
    "        count_favorite=count_favorite+favorites\n",
    "        count=count+1\n",
    "    calc_follower = int ( count_follower / count)\n",
    "    calc_retweet = int ( count_retweet / count)\n",
    "    calc_favorite = int ( count_favorite / count)\n",
    "    \n",
    "    return calc_follower, calc_retweet, calc_favorite\n",
    "\n",
    "# Set Country for Analyses\n",
    "def analyse_average(country):\n",
    "    \n",
    "    regionType =\"state\"\n",
    "    \n",
    "    #For Carmen we need to use column \"county\"\n",
    "    #if country ==\"United Kingdom\":\n",
    "    #    regionType=\"county\"\n",
    "    \n",
    "    #Set DataFrame to specific country\n",
    "    df_country = df_merged[df_merged[\"country\"]==country]\n",
    "\n",
    "    # Method to match given State Names to State Names from GeoJson\n",
    "    df_country = edit_states(country,df_country)\n",
    "    \n",
    "    #get all states found in dataframe\n",
    "    states = df_country[regionType].unique()\n",
    "    states = list(states)\n",
    "    states = [state for state in states if str(state)!='nan']\n",
    "    \n",
    " \n",
    "    print(sorted(states))\n",
    "    \n",
    "    # Create dict with number of tweets per state\n",
    "    stateCounts={}\n",
    "    for state in states:\n",
    "        stateCounts[state]=len(df_country[df_country[regionType]==state])\n",
    "\n",
    "    #Get average per State:\n",
    "    stateFollower = {}\n",
    "    stateRetweets = {}\n",
    "    stateLikes = {}\n",
    "    \n",
    "    #States without tweets get value 0\n",
    "    data = fill_states(country,stateCounts)\n",
    "    \n",
    "    # Fill dict ->  statename : average Follower    \n",
    "    for state in data:\n",
    "        if state not in states:\n",
    "            stateFollower[state]=0\n",
    "            stateRetweets[state] = 0\n",
    "            stateLikes[state] = 0\n",
    "            continue\n",
    "            \n",
    "        df_state = df_country[df_country[regionType]==state]\n",
    "        follower,retweet,like = avg_FRL(df_state,state)\n",
    "        stateFollower[state]= follower\n",
    "        stateRetweets[state] = retweet\n",
    "        stateLikes[state] = like\n",
    "    \n",
    "    return stateFollower, stateRetweets, stateLikes"
   ]
  },
  {
   "cell_type": "code",
   "execution_count": null,
   "metadata": {},
   "outputs": [],
   "source": [
    "germany_Follower, germany_Retweets, germany_Likes = analyse_average(\"Germany\")"
   ]
  },
  {
   "cell_type": "code",
   "execution_count": null,
   "metadata": {},
   "outputs": [],
   "source": [
    "#Germany average Follower\n",
    "\n",
    "label = Label()\n",
    "data = germany_Follower\n",
    "\n",
    "colorScheme = [\"#FFFCFC\", \"#F1DCDC\",\"#DB8585\", \"#BB1216\",\"#6c0000\"]\n",
    "colormap_dept = color.StepColormap(colors=colorScheme,vmin=min(data.values()),vmax=max(data.values()),index=[0,1000, 10000, 100000,500000])\n",
    "legend = LegendControl({\"0 - 1K\":colorScheme[0], \"1K - 10K\":colorScheme[1], \"10K - 100K\":colorScheme[2],\"100K - 500K\":colorScheme[3],\"500K+\": colorScheme[4]},fontsize=2, name=\"Avg. Follower\", position=\"bottomleft\")\n",
    "\n",
    "m = Map(layers=(),center=(51.2252978589571, 9.84580993652344),zoom_control=False,zoom=6)\n",
    "\n",
    "layer = ipyleaflet.Choropleth(geo_data= german_data,choro_data=germany_Follower,key_on=\"id\",colormap=colormap_dept,style={'fillOpacity': 1}\n",
    ")\n",
    "\n",
    "layer.on_click(set_popUp)\n",
    "m.on_interaction(handle_interaction_country)\n",
    "m.add_layer(layer)\n",
    "m.add_control(legend)\n",
    "m.layout.width = '60%'\n",
    "m.layout.height = '600px'\n",
    "m"
   ]
  },
  {
   "cell_type": "code",
   "execution_count": 43,
   "metadata": {},
   "outputs": [
    {
     "data": {
      "application/vnd.jupyter.widget-view+json": {
       "model_id": "2e21938eba4a44f89033b00d98f54915",
       "version_major": 2,
       "version_minor": 0
      },
      "text/plain": [
       "Map(center=[51.2252978589571, 9.84580993652344], controls=(AttributionControl(options=['position', 'prefix'], …"
      ]
     },
     "metadata": {},
     "output_type": "display_data"
    }
   ],
   "source": [
    "#Germany average retweets\n",
    "label = Label()\n",
    "data = germany_Retweets\n",
    "colorScheme = [\"#FFFCFC\", \"#F1DCDC\",\"#DB8585\", \"#BB1216\",\"#6c0000\"]\n",
    "colormap_dept = color.StepColormap(colors=colorScheme,vmin=min(data.values()),vmax=max(data.values()),index=[0,10, 25, 50,100])\n",
    "legend = LegendControl({\"0 - 10\":colorScheme[0], \"10 - 25\":colorScheme[1],\"25 - 50\":colorScheme[2],\"50 - 75\":colorScheme[3],\"100+\": colorScheme[4]},fontsize=2, name=\"Avg. Retweets\", position=\"bottomleft\")\n",
    "\n",
    "m = Map(layers=(),center=(51.2252978589571, 9.84580993652344),zoom_control=False,zoom=6)\n",
    "\n",
    "layer = ipyleaflet.Choropleth(geo_data= german_data,choro_data=data,key_on=\"id\",colormap=colormap_dept,style={'fillOpacity': 1}\n",
    ")\n",
    "\n",
    "layer.on_click(set_popUp)\n",
    "m.on_interaction(handle_interaction_country)\n",
    "m.add_layer(layer)\n",
    "m.add_control(legend)\n",
    "m.layout.width = '60%'\n",
    "m.layout.height = '600px'\n",
    "m"
   ]
  },
  {
   "cell_type": "code",
   "execution_count": 44,
   "metadata": {},
   "outputs": [
    {
     "data": {
      "application/vnd.jupyter.widget-view+json": {
       "model_id": "0ffa5c6f58004c9da4add22aa10596a9",
       "version_major": 2,
       "version_minor": 0
      },
      "text/plain": [
       "Map(center=[51.2252978589571, 9.84580993652344], controls=(AttributionControl(options=['position', 'prefix'], …"
      ]
     },
     "metadata": {},
     "output_type": "display_data"
    }
   ],
   "source": [
    "#Germany average likes\n",
    "label = Label()\n",
    "data = germany_Likes\n",
    "colorScheme = [\"#FFFCFC\", \"#F1DCDC\",\"#DB8585\", \"#BB1216\",\"#6c0000\"]\n",
    "colormap_dept = color.StepColormap(colors=colorScheme,vmin=min(data.values()),vmax=max(data.values()),index=[0,25, 50, 100,250])\n",
    "legend = LegendControl({\"0 - 25\":colorScheme[0], \"25 - 50\":colorScheme[1],\"50 - 100\":colorScheme[2],\"100 - 250\":colorScheme[3],\"250+\": colorScheme[4]},fontsize=2, name=\"Avg. Likes\", position=\"bottomleft\")\n",
    "\n",
    "m = Map(layers=(),center=(51.2252978589571, 9.84580993652344),zoom_control=False,zoom=6)\n",
    "\n",
    "layer = ipyleaflet.Choropleth(geo_data= german_data,choro_data=data,key_on=\"id\",colormap=colormap_dept,style={'fillOpacity': 1}\n",
    ")\n",
    "\n",
    "layer.on_click(set_popUp)\n",
    "m.on_interaction(handle_interaction_country)\n",
    "m.add_layer(layer)\n",
    "m.add_control(legend)\n",
    "m.layout.width = '60%'\n",
    "m.layout.height = '600px'\n",
    "m"
   ]
  },
  {
   "cell_type": "code",
   "execution_count": 45,
   "metadata": {},
   "outputs": [
    {
     "name": "stdout",
     "output_type": "stream",
     "text": [
      "['Andalucia', 'Aragon', 'Asturias', 'Baleares', 'Canarias', 'Cantabria', 'Castilla-La Mancha', 'Castilla-Leon', 'Catalonia', 'Extremadura', 'Galicia', 'La Rioja', 'Madrid', 'Melilla', 'Murcia', 'Navarra', 'Pais Vasco', 'Valencia']\n",
      "['Andalucia', 'Aragon', 'Asturias', 'Baleares', 'Canarias', 'Cantabria', 'Castilla-La Mancha', 'Castilla-Leon', 'Catalonia', 'Ceuta', 'Extremadura', 'Galicia', 'La Rioja', 'Madrid', 'Melilla', 'Murcia', 'Navarra', 'Pais Vasco', 'Valencia']\n"
     ]
    }
   ],
   "source": [
    "spain_Follower, spain_Retweets, spain_Likes = analyse_average(\"Spain\")"
   ]
  },
  {
   "cell_type": "code",
   "execution_count": 46,
   "metadata": {},
   "outputs": [
    {
     "data": {
      "application/vnd.jupyter.widget-view+json": {
       "model_id": "a9d7fe20c10e4142b31235bdea04e7b3",
       "version_major": 2,
       "version_minor": 0
      },
      "text/plain": [
       "Map(center=[39.8252978589571, -2.54580993652344], controls=(AttributionControl(options=['position', 'prefix'],…"
      ]
     },
     "metadata": {},
     "output_type": "display_data"
    }
   ],
   "source": [
    "#Spain average Follower\n",
    "\n",
    "label = Label()\n",
    "data = spain_Follower\n",
    "colorScheme = [\"#FFFCFC\", \"#F1DCDC\",\"#DB8585\", \"#BB1216\",\"#6c0000\"]\n",
    "colormap_dept = color.StepColormap(colors=colorScheme,vmin=min(data.values()),vmax=max(data.values()),index=[0,1000, 10000, 100000,500000])\n",
    "legend = LegendControl({\"0 - 1K\":colorScheme[0], \"1K - 10K\":colorScheme[1], \"10K - 100K\":colorScheme[2],\"100K - 500K\":colorScheme[3],\"500K+\": colorScheme[4]},fontsize=2, name=\"Avg. Follower\", position=\"bottomright\")\n",
    "\n",
    "m = Map(layers=(), center=( 39.8252978589571, -2.54580993652344),zoom_control=False, zoom=6)\n",
    "\n",
    "layer = ipyleaflet.Choropleth(geo_data= spain_data,choro_data=data,key_on=\"id\",colormap=colormap_dept,style={'fillOpacity': 1}\n",
    ")\n",
    "\n",
    "layer.on_click(set_popUp)\n",
    "m.on_interaction(handle_interaction_country)\n",
    "m.add_layer(layer)\n",
    "m.add_control(legend)\n",
    "m.layout.width = '65%'\n",
    "m.layout.height = '520px'\n",
    "m"
   ]
  },
  {
   "cell_type": "code",
   "execution_count": 47,
   "metadata": {},
   "outputs": [
    {
     "data": {
      "application/vnd.jupyter.widget-view+json": {
       "model_id": "6f967ef472c340f18dd6ab0f3db97719",
       "version_major": 2,
       "version_minor": 0
      },
      "text/plain": [
       "Map(center=[39.8252978589571, -2.54580993652344], controls=(AttributionControl(options=['position', 'prefix'],…"
      ]
     },
     "metadata": {},
     "output_type": "display_data"
    }
   ],
   "source": [
    "#Spain average retweets\n",
    "label = Label()\n",
    "data = spain_Retweets\n",
    "\n",
    "colorScheme = [\"#FFFCFC\", \"#F1DCDC\",\"#DB8585\", \"#BB1216\",\"#6c0000\"]\n",
    "colormap_dept = color.StepColormap(colors=colorScheme,vmin=min(data.values()),vmax=max(data.values()),index=[0,10, 25, 50,100])\n",
    "legend = LegendControl({\"0 - 10\":colorScheme[0], \"10 - 25\":colorScheme[1],\"25 - 50\":colorScheme[2],\"50 - 75\":colorScheme[3],\"100+\": colorScheme[4]},fontsize=2, name=\"Avg. Retweets\", position=\"bottomright\")\n",
    "\n",
    "m = Map(layers=(), center=( 39.8252978589571, -2.54580993652344),zoom_control=False, zoom=6)\n",
    "\n",
    "layer = ipyleaflet.Choropleth(geo_data= spain_data,choro_data=data,key_on=\"id\",colormap=colormap_dept,style={'fillOpacity': 1}\n",
    ")\n",
    "\n",
    "layer.on_click(set_popUp)\n",
    "m.on_interaction(handle_interaction_country)\n",
    "m.add_layer(layer)\n",
    "m.add_control(legend)\n",
    "m.layout.width = '65%'\n",
    "m.layout.height = '520px'\n",
    "m"
   ]
  },
  {
   "cell_type": "code",
   "execution_count": 48,
   "metadata": {},
   "outputs": [
    {
     "data": {
      "application/vnd.jupyter.widget-view+json": {
       "model_id": "4364a8dd80344c85a3d4f15374bb6d20",
       "version_major": 2,
       "version_minor": 0
      },
      "text/plain": [
       "Map(center=[39.8252978589571, -2.54580993652344], controls=(AttributionControl(options=['position', 'prefix'],…"
      ]
     },
     "metadata": {},
     "output_type": "display_data"
    }
   ],
   "source": [
    "#Spain average likes\n",
    "label = Label()\n",
    "data = spain_Likes\n",
    "colorScheme = [\"#FFFCFC\", \"#F1DCDC\",\"#DB8585\", \"#BB1216\",\"#6c0000\"]\n",
    "colormap_dept = color.StepColormap(colors=colorScheme,vmin=min(data.values()),vmax=max(data.values()),index=[0,25, 50, 100,250])\n",
    "legend = LegendControl({\"0 - 25\":colorScheme[0], \"25 - 50\":colorScheme[1],\"50 - 100\":colorScheme[2],\"100 - 250\":colorScheme[3],\"250+\": colorScheme[4]},fontsize=2, name=\"Avg. Likes\", position=\"bottomright\")\n",
    "\n",
    "m = Map(layers=(), center=( 39.8252978589571, -2.54580993652344),zoom_control=False, zoom=6)\n",
    "\n",
    "layer = ipyleaflet.Choropleth(geo_data= spain_data,choro_data=data,key_on=\"id\",colormap=colormap_dept,style={'fillOpacity': 1}\n",
    ")\n",
    "\n",
    "layer.on_click(set_popUp)\n",
    "m.on_interaction(handle_interaction_country)\n",
    "m.add_layer(layer)\n",
    "m.add_control(legend)\n",
    "m.layout.width = '65%'\n",
    "m.layout.height = '520px'\n",
    "m"
   ]
  },
  {
   "cell_type": "code",
   "execution_count": 49,
   "metadata": {},
   "outputs": [
    {
     "name": "stdout",
     "output_type": "stream",
     "text": [
      "['Auvergne-Rhône-Alpes', 'Bourgogne-Franche-Comté', 'Bretagne', 'Centre-Val de Loire', 'Corse', 'Grand Est', 'Hauts-de-France', 'Normandie', 'Nouvelle-Aquitaine', 'Occitanie', 'Pays de la Loire', \"Provence-Alpes-Côte d'Azur\", 'Île-de-France']\n",
      "['Auvergne-Rhône-Alpes', 'Bourgogne-Franche-Comté', 'Bretagne', 'Centre-Val de Loire', 'Corse', 'Grand Est', 'Guadeloupe', 'Guyane', 'Hauts-de-France', 'La Réunion', 'Martinique', 'Mayotte', 'Normandie', 'Nouvelle-Aquitaine', 'Occitanie', 'Pays de la Loire', \"Provence-Alpes-Côte d'Azur\", 'Île-de-France']\n"
     ]
    }
   ],
   "source": [
    "france_Follower, france_Retweets, france_Likes = analyse_average(\"France\")"
   ]
  },
  {
   "cell_type": "code",
   "execution_count": 50,
   "metadata": {},
   "outputs": [
    {
     "data": {
      "application/vnd.jupyter.widget-view+json": {
       "model_id": "6c411d9ad13440998c607c7257d48510",
       "version_major": 2,
       "version_minor": 0
      },
      "text/plain": [
       "Map(center=[46.42252978589571, 2.99580993652344], controls=(AttributionControl(options=['position', 'prefix'],…"
      ]
     },
     "metadata": {},
     "output_type": "display_data"
    }
   ],
   "source": [
    "#France average Follower\n",
    "\n",
    "label = Label()\n",
    "data = france_Follower\n",
    "\n",
    "colorScheme = [\"#FFFCFC\", \"#F1DCDC\",\"#DB8585\", \"#BB1216\",\"#6c0000\"]\n",
    "colormap_dept = color.StepColormap(colors=colorScheme,vmin=min(data.values()),vmax=max(data.values()),index=[0,1000, 10000, 100000,500000])\n",
    "legend = LegendControl({\"0 - 1K\":colorScheme[0], \"1K - 10K\":colorScheme[1], \"10K - 100K\":colorScheme[2],\"100K - 500K\":colorScheme[3],\"500K+\": colorScheme[4]},fontsize=2, name=\"Avg. Follower\", position=\"bottomleft\")\n",
    "\n",
    "m = Map(layers=(), center=( 46.42252978589571, 2.99580993652344),zoom_control=False ,zoom=6)\n",
    "layer = ipyleaflet.Choropleth(geo_data= france_data,choro_data=data,key_on=\"id\",colormap=colormap_dept,style={'fillOpacity': 1}\n",
    ")\n",
    "\n",
    "layer.on_click(set_popUp)\n",
    "m.on_interaction(handle_interaction_country)\n",
    "m.add_layer(layer)\n",
    "m.add_control(legend)\n",
    "m.layout.width = '72%'\n",
    "m.layout.height = '650px'\n",
    "m"
   ]
  },
  {
   "cell_type": "code",
   "execution_count": 51,
   "metadata": {},
   "outputs": [
    {
     "data": {
      "application/vnd.jupyter.widget-view+json": {
       "model_id": "0a048bf56ab746c99e254d837eece1e4",
       "version_major": 2,
       "version_minor": 0
      },
      "text/plain": [
       "Map(center=[46.42252978589571, 2.99580993652344], controls=(AttributionControl(options=['position', 'prefix'],…"
      ]
     },
     "metadata": {},
     "output_type": "display_data"
    }
   ],
   "source": [
    "#France average retweets\n",
    "label = Label()\n",
    "data = france_Retweets\n",
    "\n",
    "colorScheme = [\"#FFFCFC\", \"#F1DCDC\",\"#DB8585\", \"#BB1216\",\"#6c0000\"]\n",
    "colormap_dept = color.StepColormap(colors=colorScheme,vmin=min(data.values()),vmax=max(data.values()),index=[0,10, 25, 50,100])\n",
    "legend = LegendControl({\"0 - 10\":colorScheme[0], \"10 - 25\":colorScheme[1],\"25 - 50\":colorScheme[2],\"50 - 75\":colorScheme[3],\"100+\": colorScheme[4]},fontsize=2, name=\"Avg. Retweets\", position=\"bottomleft\")\n",
    "\n",
    "m = Map(layers=(), center=( 46.42252978589571, 2.99580993652344),zoom_control=False ,zoom=6)\n",
    "\n",
    "layer = ipyleaflet.Choropleth(geo_data= france_data,choro_data=data,key_on=\"id\",colormap=colormap_dept,style={'fillOpacity': 1}\n",
    ")\n",
    "\n",
    "layer.on_click(set_popUp)\n",
    "m.on_interaction(handle_interaction_country)\n",
    "m.add_layer(layer)\n",
    "m.add_control(legend)\n",
    "m.layout.width = '72%'\n",
    "m.layout.height = '650px'\n",
    "m"
   ]
  },
  {
   "cell_type": "code",
   "execution_count": 52,
   "metadata": {},
   "outputs": [
    {
     "data": {
      "application/vnd.jupyter.widget-view+json": {
       "model_id": "de9d9fe6e40b414dacceebc8861fb1fa",
       "version_major": 2,
       "version_minor": 0
      },
      "text/plain": [
       "Map(center=[46.42252978589571, 2.99580993652344], controls=(AttributionControl(options=['position', 'prefix'],…"
      ]
     },
     "metadata": {},
     "output_type": "display_data"
    }
   ],
   "source": [
    "#France average likes\n",
    "label = Label()\n",
    "data = france_Likes\n",
    "colorScheme = [\"#FFFCFC\", \"#F1DCDC\",\"#DB8585\", \"#BB1216\",\"#6c0000\"]\n",
    "colormap_dept = color.StepColormap(colors=colorScheme,vmin=min(data.values()),vmax=max(data.values()),index=[0,25, 50, 100,250])\n",
    "legend = LegendControl({\"0 - 25\":colorScheme[0], \"25 - 50\":colorScheme[1],\"50 - 100\":colorScheme[2],\"100 - 250\":colorScheme[3],\"250+\": colorScheme[4]},fontsize=2, name=\"Avg. Likes\", position=\"bottomleft\")\n",
    "\n",
    "m = Map(layers=(), center=( 46.42252978589571, 2.99580993652344),zoom_control=False ,zoom=6)\n",
    "\n",
    "layer = ipyleaflet.Choropleth(geo_data= france_data,choro_data=data,key_on=\"id\",colormap=colormap_dept,style={'fillOpacity': 1}\n",
    ")\n",
    "\n",
    "layer.on_click(set_popUp)\n",
    "m.on_interaction(handle_interaction_country)\n",
    "m.add_layer(layer)\n",
    "m.add_control(legend)\n",
    "m.layout.width = '72%'\n",
    "m.layout.height = '650px'\n",
    "m"
   ]
  },
  {
   "cell_type": "code",
   "execution_count": 56,
   "metadata": {},
   "outputs": [
    {
     "name": "stdout",
     "output_type": "stream",
     "text": [
      "['Abruzzo', 'Basilicata', 'Calabria', 'Campania', 'Emilia-Romagna', 'Friuli-Venezia Giulia', 'Lazio', 'Liguria', 'Lombardia', 'Marche', 'Piemonte', 'Puglia', 'Sardegna', 'Sicilia', 'Toscana', 'Trentino-Alto Adige', 'Umbria', \"Valle d'Aosta\", 'Veneto']\n",
      "['Abruzzo', 'Basilicata', 'Calabria', 'Campania', 'Emilia-Romagna', 'Friuli-Venezia Giulia', 'Lazio', 'Liguria', 'Lombardia', 'Marche', 'Molise', 'Piemonte', 'Puglia', 'Sardegna', 'Sicilia', 'Toscana', 'Trentino-Alto Adige', 'Umbria', \"Valle d'Aosta\", 'Veneto']\n"
     ]
    }
   ],
   "source": [
    "italy_Follower, italy_Retweets, italy_Likes = analyse_average(\"Italy\")"
   ]
  },
  {
   "cell_type": "code",
   "execution_count": 57,
   "metadata": {},
   "outputs": [
    {
     "data": {
      "application/vnd.jupyter.widget-view+json": {
       "model_id": "6822bd99c1fa41988b06f4266fdb6a66",
       "version_major": 2,
       "version_minor": 0
      },
      "text/plain": [
       "Map(center=[41.9952978589571, 12.9], controls=(AttributionControl(options=['position', 'prefix'], position='bo…"
      ]
     },
     "metadata": {},
     "output_type": "display_data"
    }
   ],
   "source": [
    "#Italy average Follower\n",
    "\n",
    "label = Label()\n",
    "data = italy_Follower\n",
    "colorScheme = [\"#FFFCFC\", \"#F1DCDC\",\"#DB8585\", \"#BB1216\",\"#6c0000\"]\n",
    "colormap_dept = color.StepColormap(colors=colorScheme,vmin=min(data.values()),vmax=max(data.values()),index=[0,1000, 10000, 100000,500000])\n",
    "legend = LegendControl({\"0 - 1K\":colorScheme[0], \"1K - 10K\":colorScheme[1], \"10K - 100K\":colorScheme[2],\"100K - 500K\":colorScheme[3],\"500K+\": colorScheme[4]},fontsize=2, name=\"Avg. Follower\", position=\"bottomleft\")\n",
    "\n",
    "m = Map(layers=(), center=( 41.9952978589571, 12.90),zoom_control=False, zoom=6)\n",
    "\n",
    "\n",
    "layer = ipyleaflet.Choropleth(geo_data= italy_data,choro_data=data,key_on=\"id\",colormap=colormap_dept,style={'fillOpacity': 1}\n",
    ")\n",
    "\n",
    "layer.on_click(set_popUp)\n",
    "m.on_interaction(handle_interaction_country)\n",
    "m.add_layer(layer)\n",
    "m.add_control(legend)\n",
    "m.layout.width = '63%'\n",
    "m.layout.height = '660px'\n",
    "m"
   ]
  },
  {
   "cell_type": "code",
   "execution_count": 58,
   "metadata": {},
   "outputs": [
    {
     "data": {
      "application/vnd.jupyter.widget-view+json": {
       "model_id": "318e6b2865f14e64a83de374f45f943b",
       "version_major": 2,
       "version_minor": 0
      },
      "text/plain": [
       "Map(center=[41.9952978589571, 12.9], controls=(AttributionControl(options=['position', 'prefix'], position='bo…"
      ]
     },
     "metadata": {},
     "output_type": "display_data"
    }
   ],
   "source": [
    "#Italy average retweets\n",
    "label = Label()\n",
    "data = italy_Retweets\n",
    "colorScheme = [\"#FFFCFC\", \"#F1DCDC\",\"#DB8585\", \"#BB1216\",\"#6c0000\"]\n",
    "colormap_dept = color.StepColormap(colors=colorScheme,vmin=min(data.values()),vmax=max(data.values()),index=[0,10, 25, 50,100])\n",
    "legend = LegendControl({\"0 - 10\":colorScheme[0], \"10 - 25\":colorScheme[1],\"25 - 50\":colorScheme[2],\"50 - 75\":colorScheme[3],\"100+\": colorScheme[4]},fontsize=2, name=\"Avg. Retweets\", position=\"bottomleft\")\n",
    "\n",
    "m = Map(layers=(), center=( 41.9952978589571, 12.90),zoom_control=False, zoom=6)\n",
    "layer = ipyleaflet.Choropleth(geo_data= italy_data,choro_data=data,key_on=\"id\",colormap=colormap_dept,style={'fillOpacity': 1}\n",
    ")\n",
    "\n",
    "layer.on_click(set_popUp)\n",
    "m.on_interaction(handle_interaction_country)\n",
    "m.add_layer(layer)\n",
    "m.add_control(legend)\n",
    "m.layout.width = '63%'\n",
    "m.layout.height = '660px'\n",
    "m"
   ]
  },
  {
   "cell_type": "code",
   "execution_count": 59,
   "metadata": {
    "scrolled": false
   },
   "outputs": [
    {
     "data": {
      "application/vnd.jupyter.widget-view+json": {
       "model_id": "103dd0d5f9f745b49eb9b9338b43934b",
       "version_major": 2,
       "version_minor": 0
      },
      "text/plain": [
       "Map(center=[41.9952978589571, 12.9], controls=(AttributionControl(options=['position', 'prefix'], position='bo…"
      ]
     },
     "metadata": {},
     "output_type": "display_data"
    }
   ],
   "source": [
    "#Italy average likes\n",
    "label = Label()\n",
    "data = italy_Likes\n",
    "colorScheme = [\"#FFFCFC\", \"#F1DCDC\",\"#DB8585\", \"#BB1216\",\"#6c0000\"]\n",
    "colormap_dept = color.StepColormap(colors=colorScheme,vmin=min(data.values()),vmax=max(data.values()),index=[0,25, 50, 100,250])\n",
    "legend = LegendControl({\"0 - 25\":colorScheme[0], \"25 - 50\":colorScheme[1],\"50 - 100\":colorScheme[2],\"100 - 250\":colorScheme[3],\"250+\": colorScheme[4]},fontsize=2, name=\"Avg. Likes\", position=\"bottomleft\")\n",
    "\n",
    "m = Map(layers=(), center=( 41.9952978589571, 12.90),zoom_control=False, zoom=6)\n",
    "\n",
    "layer = ipyleaflet.Choropleth(geo_data= italy_data,choro_data=data,key_on=\"id\",colormap=colormap_dept,style={'fillOpacity': 1}\n",
    ")\n",
    "\n",
    "layer.on_click(set_popUp)\n",
    "m.on_interaction(handle_interaction_country)\n",
    "m.add_layer(layer)\n",
    "m.add_control(legend)\n",
    "m.layout.width = '63%'\n",
    "m.layout.height = '660px'\n",
    "m"
   ]
  },
  {
   "cell_type": "code",
   "execution_count": 60,
   "metadata": {},
   "outputs": [
    {
     "name": "stdout",
     "output_type": "stream",
     "text": [
      "['Andaman & Nicobar Island', 'Andhra Pradesh', 'Assam', 'Bihar', 'Chandigarh', 'Chhattisgarh', 'Goa', 'Gujarat', 'Haryana', 'Himachal Pradesh', 'Jammu & Kashmir', 'Jharkhand', 'Karnataka', 'Kerala', 'Laccadives', 'Madhya Pradesh', 'Maharashtra', 'Meghalaya', 'Mizoram', 'NCT of Delhi', 'Odisha', 'Punjab', 'Rajasthan', 'Tamil Nadu', 'Telangana', 'Tripura', 'Uttar Pradesh', 'Uttarakhand', 'West Bengal']\n",
      "['Andaman & Nicobar Island', 'Andhra Pradesh', 'Arunanchal Pradesh', 'Assam', 'Bihar', 'Chandigarh', 'Chhattisgarh', 'Dadara & Nagar Havelli', 'Daman & Diu', 'Goa', 'Gujarat', 'Haryana', 'Himachal Pradesh', 'Jammu & Kashmir', 'Jharkhand', 'Karnataka', 'Kerala', 'Lakshadweep', 'Madhya Pradesh', 'Maharashtra', 'Manipur', 'Meghalaya', 'Mizoram', 'NCT of Delhi', 'Nagaland', 'Odisha', 'Puducherry', 'Punjab', 'Rajasthan', 'Sikkim', 'Tamil Nadu', 'Telangana', 'Tripura', 'Uttar Pradesh', 'Uttarakhand', 'West Bengal']\n"
     ]
    }
   ],
   "source": [
    "india_Follower, india_Retweets, india_Likes = analyse_average(\"India\")"
   ]
  },
  {
   "cell_type": "code",
   "execution_count": 61,
   "metadata": {},
   "outputs": [
    {
     "data": {
      "application/vnd.jupyter.widget-view+json": {
       "model_id": "01e22ce5e8304ce0a7eeeba88149adcb",
       "version_major": 2,
       "version_minor": 0
      },
      "text/plain": [
       "Map(center=[23.2252978589571, 84.44580993652345], controls=(AttributionControl(options=['position', 'prefix'],…"
      ]
     },
     "metadata": {},
     "output_type": "display_data"
    }
   ],
   "source": [
    "#India average Follower\n",
    "\n",
    "label = Label()\n",
    "data = india_Follower\n",
    "colorScheme = [\"#FFFCFC\", \"#F1DCDC\",\"#DB8585\", \"#BB1216\",\"#6c0000\"]\n",
    "colormap_dept = color.StepColormap(colors=colorScheme,vmin=min(data.values()),vmax=max(data.values()),index=[0,1000, 10000, 100000,500000])\n",
    "legend = LegendControl({\"0 - 1K\":colorScheme[0], \"1K - 10K\":colorScheme[1], \"10K - 100K\":colorScheme[2],\"100K - 500K\":colorScheme[3],\"500K+\": colorScheme[4]},fontsize=2, name=\"Avg. Follower\", position=\"bottomleft\")\n",
    "\n",
    "m = Map(layers=(), center=( 23.2252978589571, 84.44580993652344), zoom_control=False,zoom=5)\n",
    "\n",
    "layer = ipyleaflet.Choropleth(geo_data= india_data,choro_data=data,key_on=\"id\",colormap=colormap_dept,style={'fillOpacity': 1}\n",
    ")\n",
    "\n",
    "layer.on_click(set_popUp)\n",
    "m.on_interaction(handle_interaction_country)\n",
    "m.add_layer(layer)\n",
    "m.add_control(legend)\n",
    "m.layout.width = '76%'\n",
    "m.layout.height = '750px'\n",
    "m"
   ]
  },
  {
   "cell_type": "code",
   "execution_count": 62,
   "metadata": {},
   "outputs": [
    {
     "data": {
      "application/vnd.jupyter.widget-view+json": {
       "model_id": "119bc842dfec42428df1f0277b2a21b9",
       "version_major": 2,
       "version_minor": 0
      },
      "text/plain": [
       "Map(center=[23.2252978589571, 84.44580993652345], controls=(AttributionControl(options=['position', 'prefix'],…"
      ]
     },
     "metadata": {},
     "output_type": "display_data"
    }
   ],
   "source": [
    "#India average retweets\n",
    "label = Label()\n",
    "data = india_Retweets\n",
    "colorScheme = [\"#FFFCFC\", \"#F1DCDC\",\"#DB8585\", \"#BB1216\",\"#6c0000\"]\n",
    "colormap_dept = color.StepColormap(colors=colorScheme,vmin=min(data.values()),vmax=max(data.values()),index=[0,10, 25, 50,100])\n",
    "legend = LegendControl({\"0 - 10\":colorScheme[0], \"10 - 25\":colorScheme[1],\"25 - 50\":colorScheme[2],\"50 - 75\":colorScheme[3],\"100+\": colorScheme[4]},fontsize=2, name=\"Avg. Retweets\", position=\"bottomleft\")\n",
    "\n",
    "m = Map(layers=(), center=( 23.2252978589571, 84.44580993652344), zoom_control=False,zoom=5)\n",
    "\n",
    "layer = ipyleaflet.Choropleth(geo_data= india_data,choro_data=data,key_on=\"id\",colormap=colormap_dept,style={'fillOpacity': 1}\n",
    ")\n",
    "\n",
    "layer.on_click(set_popUp)\n",
    "m.on_interaction(handle_interaction_country)\n",
    "m.add_layer(layer)\n",
    "m.add_control(legend)\n",
    "m.layout.width = '76%'\n",
    "m.layout.height = '750px'\n",
    "m"
   ]
  },
  {
   "cell_type": "code",
   "execution_count": 63,
   "metadata": {},
   "outputs": [
    {
     "data": {
      "application/vnd.jupyter.widget-view+json": {
       "model_id": "50381bb4b4e14c6db1520e09e50871b1",
       "version_major": 2,
       "version_minor": 0
      },
      "text/plain": [
       "Map(center=[23.2252978589571, 84.44580993652345], controls=(AttributionControl(options=['position', 'prefix'],…"
      ]
     },
     "metadata": {},
     "output_type": "display_data"
    }
   ],
   "source": [
    "#India average likes\n",
    "label = Label()\n",
    "data = india_Likes\n",
    "colorScheme = [\"#FFFCFC\", \"#F1DCDC\",\"#DB8585\", \"#BB1216\",\"#6c0000\"]\n",
    "colormap_dept = color.StepColormap(colors=colorScheme,vmin=min(data.values()),vmax=max(data.values()),index=[0,25, 50, 100,250])\n",
    "legend = LegendControl({\"0 - 25\":colorScheme[0], \"25 - 50\":colorScheme[1],\"50 - 100\":colorScheme[2],\"100 - 250\":colorScheme[3],\"250+\": colorScheme[4]},fontsize=2, name=\"Avg. Likes\", position=\"bottomleft\")\n",
    "\n",
    "m = Map(layers=(), center=( 23.2252978589571, 84.44580993652344), zoom_control=False,zoom=5)\n",
    "\n",
    "layer = ipyleaflet.Choropleth(geo_data= india_data,choro_data=data,key_on=\"id\",colormap=colormap_dept,style={'fillOpacity': 1}\n",
    ")\n",
    "\n",
    "layer.on_click(set_popUp)\n",
    "m.on_interaction(handle_interaction_country)\n",
    "m.add_layer(layer)\n",
    "m.add_control(legend)\n",
    "m.layout.width = '76%'\n",
    "m.layout.height = '750px'\n",
    "m"
   ]
  },
  {
   "cell_type": "code",
   "execution_count": 64,
   "metadata": {},
   "outputs": [
    {
     "name": "stdout",
     "output_type": "stream",
     "text": [
      "['Alabama', 'Alaska', 'Arizona', 'Arkansas', 'California', 'Colorado', 'Connecticut', 'Delaware', 'District of Columbia', 'Florida', 'Georgia', 'Hawaii', 'Idaho', 'Illinois', 'Indiana', 'Iowa', 'Kansas', 'Kentucky', 'Louisiana', 'Maine', 'Maryland', 'Massachusetts', 'Michigan', 'Minnesota', 'Mississippi', 'Missouri', 'Montana', 'Nebraska', 'Nevada', 'New Hampshire', 'New Jersey', 'New Mexico', 'New York', 'North Carolina', 'North Dakota', 'Ohio', 'Oklahoma', 'Oregon', 'Pennsylvania', 'Rhode Island', 'South Carolina', 'South Dakota', 'Tennessee', 'Texas', 'Utah', 'Vermont', 'Virginia', 'Washington', 'West Virginia', 'Wisconsin', 'Wyoming']\n",
      "['Alabama', 'Alaska', 'Arizona', 'Arkansas', 'California', 'Colorado', 'Connecticut', 'Delaware', 'District of Columbia', 'Florida', 'Georgia', 'Hawaii', 'Idaho', 'Illinois', 'Indiana', 'Iowa', 'Kansas', 'Kentucky', 'Louisiana', 'Maine', 'Maryland', 'Massachusetts', 'Michigan', 'Minnesota', 'Mississippi', 'Missouri', 'Montana', 'Nebraska', 'Nevada', 'New Hampshire', 'New Jersey', 'New Mexico', 'New York', 'North Carolina', 'North Dakota', 'Ohio', 'Oklahoma', 'Oregon', 'Pennsylvania', 'Puerto Rico', 'Rhode Island', 'South Carolina', 'South Dakota', 'Tennessee', 'Texas', 'Utah', 'Vermont', 'Virginia', 'Washington', 'West Virginia', 'Wisconsin', 'Wyoming']\n"
     ]
    }
   ],
   "source": [
    "us_Follower, us_Retweets, us_Likes = analyse_average(\"United States\")"
   ]
  },
  {
   "cell_type": "code",
   "execution_count": 65,
   "metadata": {},
   "outputs": [
    {
     "data": {
      "application/vnd.jupyter.widget-view+json": {
       "model_id": "7c7abeadcd624736a29125af704eef63",
       "version_major": 2,
       "version_minor": 0
      },
      "text/plain": [
       "Map(center=[37.6252978589571, -94.24580993652344], controls=(AttributionControl(options=['position', 'prefix']…"
      ]
     },
     "metadata": {},
     "output_type": "display_data"
    }
   ],
   "source": [
    "#United States average Follower\n",
    "\n",
    "label = Label()\n",
    "data = us_Follower\n",
    "colorScheme = [\"#FFFCFC\", \"#F1DCDC\",\"#DB8585\", \"#BB1216\",\"#6c0000\"]\n",
    "colormap_dept = color.StepColormap(colors=colorScheme,vmin=min(data.values()),vmax=max(data.values()),index=[0,1000, 10000, 100000,500000])\n",
    "legend = LegendControl({\"0 - 1K\":colorScheme[0], \"1K - 10K\":colorScheme[1], \"10K - 100K\":colorScheme[2],\"100K - 500K\":colorScheme[3],\"500K+\": colorScheme[4]},fontsize=2, name=\"Avg. Follower\", position=\"bottomleft\")\n",
    "\n",
    "m = Map(layers=(), center=( 37.6252978589571, -94.24580993652344),zoom_control=False,zoom=4)\n",
    "layer = ipyleaflet.Choropleth(geo_data= us_data,choro_data=data,key_on=\"id\",colormap=colormap_dept,style={'fillOpacity': 1}\n",
    ")\n",
    "\n",
    "layer.on_click(set_popUp)\n",
    "m.on_interaction(handle_interaction_country)\n",
    "m.add_layer(layer)\n",
    "m.add_control(legend)\n",
    "m.layout.width = '75%'\n",
    "m.layout.height = '440px'\n",
    "m"
   ]
  },
  {
   "cell_type": "code",
   "execution_count": 66,
   "metadata": {},
   "outputs": [
    {
     "data": {
      "application/vnd.jupyter.widget-view+json": {
       "model_id": "b9818866e49545d4aa3a76c06bc1c206",
       "version_major": 2,
       "version_minor": 0
      },
      "text/plain": [
       "Map(center=[37.6252978589571, -94.24580993652344], controls=(AttributionControl(options=['position', 'prefix']…"
      ]
     },
     "metadata": {},
     "output_type": "display_data"
    }
   ],
   "source": [
    "#United States retweets\n",
    "label = Label()\n",
    "data = us_Retweets\n",
    "colorScheme = [\"#FFFCFC\", \"#F1DCDC\",\"#DB8585\", \"#BB1216\",\"#6c0000\"]\n",
    "colormap_dept = color.StepColormap(colors=colorScheme,vmin=min(data.values()),vmax=max(data.values()),index=[0,10, 25, 50,100])\n",
    "legend = LegendControl({\"0 - 10\":colorScheme[0], \"10 - 25\":colorScheme[1],\"25 - 50\":colorScheme[2],\"50 - 75\":colorScheme[3],\"100+\": colorScheme[4]},fontsize=2, name=\"Avg. Retweets\", position=\"bottomleft\")\n",
    "\n",
    "m = Map(layers=(), center=( 37.6252978589571, -94.24580993652344),zoom_control=False,zoom=4)\n",
    "\n",
    "layer = ipyleaflet.Choropleth(geo_data= us_data,choro_data=data,key_on=\"id\",colormap=colormap_dept,style={'fillOpacity': 1}\n",
    ")\n",
    "\n",
    "layer.on_click(set_popUp)\n",
    "m.on_interaction(handle_interaction_country)\n",
    "m.add_layer(layer)\n",
    "m.add_control(legend)\n",
    "m.layout.width = '75%'\n",
    "m.layout.height = '440px'\n",
    "m"
   ]
  },
  {
   "cell_type": "code",
   "execution_count": 67,
   "metadata": {},
   "outputs": [
    {
     "data": {
      "application/vnd.jupyter.widget-view+json": {
       "model_id": "c476fa8dd4974c50ae6718d004813929",
       "version_major": 2,
       "version_minor": 0
      },
      "text/plain": [
       "Map(center=[37.6252978589571, -94.24580993652344], controls=(AttributionControl(options=['position', 'prefix']…"
      ]
     },
     "metadata": {},
     "output_type": "display_data"
    }
   ],
   "source": [
    "#United States average likes\n",
    "label = Label()\n",
    "data = us_Likes\n",
    "colorScheme = [\"#FFFCFC\", \"#F1DCDC\",\"#DB8585\", \"#BB1216\",\"#6c0000\"]\n",
    "colormap_dept = color.StepColormap(colors=colorScheme,vmin=min(data.values()),vmax=max(data.values()),index=[0,25, 50, 100,250])\n",
    "legend = LegendControl({\"0 - 25\":colorScheme[0], \"25 - 50\":colorScheme[1],\"50 - 100\":colorScheme[2],\"100 - 250\":colorScheme[3],\"250+\": colorScheme[4]},fontsize=2, name=\"Avg. Likes\", position=\"bottomleft\")\n",
    "\n",
    "m = Map(layers=(), center=( 37.6252978589571, -94.24580993652344),zoom_control=False,zoom=4)\n",
    "\n",
    "layer = ipyleaflet.Choropleth(geo_data= us_data,choro_data=data,key_on=\"id\",colormap=colormap_dept,style={'fillOpacity': 1}\n",
    ")\n",
    "\n",
    "layer.on_click(set_popUp)\n",
    "m.on_interaction(handle_interaction_country)\n",
    "m.add_layer(layer)\n",
    "m.add_control(legend)\n",
    "m.layout.width = '75%'\n",
    "m.layout.height = '440px'\n",
    "m"
   ]
  },
  {
   "cell_type": "code",
   "execution_count": 68,
   "metadata": {
    "scrolled": true
   },
   "outputs": [
    {
     "name": "stdout",
     "output_type": "stream",
     "text": [
      "['Aberdeen', 'Aberdeenshire', 'Anglesey', 'Bath and North East Somerset', 'Bedfordshire', 'Belfast', 'Berkshire', 'Blackburn with Darwen', 'Blaenau Gwent', 'Bournemouth', 'Bridgend', 'Brighton and Hove', 'Bristol', 'Buckinghamshire', 'Caerphilly', 'Cambridgeshire', 'Cardiff', 'Carmarthenshire', 'Ceredigion', 'Cheshire', 'Chesire', 'Conwy', 'Cornwall', 'Cumbria', 'Darlington', 'Denbighshire', 'Derby', 'Derbyshire', 'Devon', 'Dorset', 'Dumfries and Galloway', 'Dundee', 'Durham', 'East Lothian', 'East Renfrewshire', 'East Riding of Yorkshire', 'East Sussex', 'Edinburgh', 'Essex', 'Falkirk', 'Fife', 'Flintshire', 'Glasgow', 'Gloucestershire', 'Gwynedd', 'Hampshire', 'Herefordshire', 'Hertfordshire', 'Isle of Wight', 'Isles of Scilly', 'Kent', 'Lancashire', 'Leicestershire', 'Lincolnshire', 'London', 'Luton', 'Manchester', 'Medway', 'Merseyside', 'Middlesbrough', 'Midlothian', 'Milton Keynes', 'Monmouthshire', 'Newport', 'Norfolk', 'North East Lincolnshire', 'North Lanarkshire', 'North Lincolnshire', 'North Somerset', 'North Yorkshire', 'Northamptonshire', 'Northumberland', 'Nottingham', 'Nottinghamshire', 'Oxfordshire', 'Pembrokeshire', 'Peterborough', 'Plymouth', 'Poole', 'Portsmouth', 'Powys', 'Renfrewshire', 'Rhondda, Cynon, Taff', 'Rutland', 'Scottish Borders', 'Shropshire', 'Somerset', 'South Gloucestershire', 'South Lanarkshire', 'South Yorkshire', 'Southampton', 'Southend-on-Sea', 'Staffordshire', 'Stockton-on-Tees', 'Stoke-on-Trent', 'Suffolk', 'Surrey', 'Swansea', 'Swindon', 'Telford and Wrekin', 'Torbay', 'Torfaen', 'Tyne and Wear', 'Vale of Glamorgan', 'Warrington', 'Warwickshire', 'West Lothian', 'West Midlands', 'West Sussex', 'West Yorkshire', 'Wiltshire', 'Worcestershire', 'Wrexham', 'York']\n",
      "['Aberdeen', 'Aberdeenshire', 'Anglesey', 'Angus', 'Antrim', 'Ards', 'Argyll and Bute', 'Armagh', 'Ballymena', 'Ballymoney', 'Banbridge', 'Barking and Dagenham', 'Bath and North East Somerset', 'Bedfordshire', 'Belfast', 'Berkshire', 'Bexley', 'Blackburn with Darwen', 'Blaenau Gwent', 'Bournemouth', 'Brent', 'Bridgend', 'Brighton and Hove', 'Bristol', 'Bromley', 'Buckinghamshire', 'Caerphilly', 'Cambridgeshire', 'Camden', 'Cardiff', 'Carmarthenshire', 'Carrickfergus', 'Castlereagh', 'Ceredigion', 'Cheshire', 'Clackmannanshire', 'Coleraine', 'Conwy', 'Cookstown', 'Cornwall', 'Craigavon', 'Croydon', 'Cumbria', 'Darlington', 'Denbighshire', 'Derby', 'Derbyshire', 'Derry', 'Devon', 'Dorset', 'Down', 'Dumfries and Galloway', 'Dundee', 'Dungannon', 'Durham', 'Ealing', 'East Ayrshire', 'East Dunbartonshire', 'East Lothian', 'East Renfrewshire', 'East Riding of Yorkshire', 'East Sussex', 'Edinburgh', 'Eilean Siar', 'Enfield', 'Essex', 'Falkirk', 'Fermanagh', 'Fife', 'Flintshire', 'Glasgow', 'Gloucestershire', 'Greenwich', 'Gwynedd', 'Hackney', 'Halton', 'Hammersmith and Fulham', 'Hampshire', 'Haringey', 'Harrow', 'Hartlepool', 'Havering', 'Herefordshire', 'Hertfordshire', 'Highland', 'Hillingdon', 'Hounslow', 'Inverclyde', 'Isle of Wight', 'Islington', 'Kensington and Chelsea', 'Kent', 'Kingston upon Hull', 'Kingston upon Thames', 'Lambeth', 'Lancashire', 'Larne', 'Leicester', 'Leicestershire', 'Lewisham', 'Limavady', 'Lincolnshire', 'Lisburn', 'London', 'Luton', 'Magherafelt', 'Manchester', 'Medway', 'Merseyside', 'Merthyr Tydfil', 'Merton', 'Middlesbrough', 'Midlothian', 'Milton Keynes', 'Monmouthshire', 'Moray', 'Moyle', 'Neath Port Talbot', 'Newham', 'Newport', 'Newry and Mourne', 'Newtownabbey', 'Norfolk', 'North Ayshire', 'North Down', 'North East Lincolnshire', 'North Lanarkshire', 'North Lincolnshire', 'North Somerset', 'North Yorkshire', 'Northamptonshire', 'Northumberland', 'Nottingham', 'Nottinghamshire', 'Omagh', 'Orkney Islands', 'Oxfordshire', 'Pembrokeshire', 'Perthshire and Kinross', 'Peterborough', 'Plymouth', 'Poole', 'Portsmouth', 'Powys', 'Redbridge', 'Redcar and Cleveland', 'Renfrewshire', 'Rhondda, Cynon, Taff', 'Richmond upon Thames', 'Rutland', 'Scottish Borders', 'Shetland Islands', 'Shropshire', 'Somerset', 'South Ayrshire', 'South Gloucestershire', 'South Lanarkshire', 'South Yorkshire', 'Southampton', 'Southend-on-Sea', 'Southwark', 'Staffordshire', 'Stirling', 'Stockton-on-Tees', 'Stoke-on-Trent', 'Strabane', 'Suffolk', 'Surrey', 'Sutton', 'Swansea', 'Swindon', 'Telford and Wrekin', 'Thurrock', 'Torbay', 'Torfaen', 'Tower Hamlets', 'Tyne and Wear', 'Vale of Glamorgan', 'Waltham Forest', 'Wandsworth', 'Warrington', 'Warwickshire', 'West Dunbartonshire', 'West Lothian', 'West Midlands', 'West Sussex', 'West Yorkshire', 'Westminster', 'Wiltshire', 'Worcestershire', 'Wrexham', 'York']\n"
     ]
    }
   ],
   "source": [
    "uk_Follower, uk_Retweets, uk_Likes = analyse_average(\"United Kingdom\")"
   ]
  },
  {
   "cell_type": "code",
   "execution_count": 69,
   "metadata": {
    "scrolled": false
   },
   "outputs": [
    {
     "data": {
      "application/vnd.jupyter.widget-view+json": {
       "model_id": "b511167eb19c4dcba3bd8795aad41edf",
       "version_major": 2,
       "version_minor": 0
      },
      "text/plain": [
       "Map(center=[54.9, -2.74580993652344], controls=(AttributionControl(options=['position', 'prefix'], position='b…"
      ]
     },
     "metadata": {},
     "output_type": "display_data"
    }
   ],
   "source": [
    "#United Kingdom average Follower\n",
    "\n",
    "label = Label()\n",
    "data = uk_Follower\n",
    "colorScheme = [\"#FFFCFC\", \"#F1DCDC\",\"#DB8585\", \"#BB1216\",\"#6c0000\"]\n",
    "colormap_dept = color.StepColormap(colors=colorScheme,vmin=min(data.values()),vmax=max(data.values()),index=[0,1000, 10000, 100000,500000])\n",
    "legend = LegendControl({\"0 - 1K\":colorScheme[0], \"1K - 10K\":colorScheme[1], \"10K - 100K\":colorScheme[2],\"100K - 500K\":colorScheme[3],\"500K+\": colorScheme[4]},fontsize=2, name=\"Avg. Follower\", position=\"bottomleft\")\n",
    "\n",
    "m = Map(layers=(), center=( 54.9, -2.74580993652344),zoom_control=False,zoom=6)\n",
    "layer = ipyleaflet.Choropleth(geo_data= uk_data,choro_data=data,key_on=\"id\",colormap=colormap_dept,style={'fillOpacity': 1}\n",
    ")\n",
    "\n",
    "layer.on_click(set_popUp)\n",
    "m.on_interaction(handle_interaction_country)\n",
    "m.add_layer(layer)\n",
    "m.add_control(legend)\n",
    "m.layout.width = '60%'\n",
    "m.layout.height = '750px'\n",
    "m"
   ]
  },
  {
   "cell_type": "code",
   "execution_count": 70,
   "metadata": {},
   "outputs": [
    {
     "data": {
      "application/vnd.jupyter.widget-view+json": {
       "model_id": "cf54e13d8f8449a8a5cba79cf7a0869b",
       "version_major": 2,
       "version_minor": 0
      },
      "text/plain": [
       "Map(center=[54.9, -2.74580993652344], controls=(AttributionControl(options=['position', 'prefix'], position='b…"
      ]
     },
     "metadata": {},
     "output_type": "display_data"
    }
   ],
   "source": [
    "#United Kingdom average Retweets\n",
    "\n",
    "label = Label()\n",
    "data = uk_Retweets\n",
    "colorScheme = [\"#FFFCFC\", \"#F1DCDC\",\"#DB8585\", \"#BB1216\",\"#6c0000\"]\n",
    "colormap_dept = color.StepColormap(colors=colorScheme,vmin=min(data.values()),vmax=max(data.values()),index=[0,10, 25, 50,100])\n",
    "legend = LegendControl({\"0 - 10\":colorScheme[0], \"10 - 25\":colorScheme[1],\"25 - 50\":colorScheme[2],\"50 - 75\":colorScheme[3],\"100+\": colorScheme[4]},fontsize=2, name=\"Avg. Retweets\", position=\"bottomleft\")\n",
    "\n",
    "m = Map(layers=(), center=( 54.9, -2.74580993652344),zoom_control=False,zoom=6)\n",
    "layer = ipyleaflet.Choropleth(geo_data= uk_data,choro_data=data,key_on=\"id\",colormap=colormap_dept,style={'fillOpacity': 1}\n",
    ")\n",
    "\n",
    "layer.on_click(set_popUp)\n",
    "m.on_interaction(handle_interaction_country)\n",
    "m.add_layer(layer)\n",
    "m.add_control(legend)\n",
    "m.layout.width = '60%'\n",
    "m.layout.height = '750px'\n",
    "m"
   ]
  },
  {
   "cell_type": "code",
   "execution_count": 71,
   "metadata": {},
   "outputs": [
    {
     "data": {
      "application/vnd.jupyter.widget-view+json": {
       "model_id": "65a3399526044313b1270f265e425c4f",
       "version_major": 2,
       "version_minor": 0
      },
      "text/plain": [
       "Map(center=[54.9, -2.74580993652344], controls=(AttributionControl(options=['position', 'prefix'], position='b…"
      ]
     },
     "metadata": {},
     "output_type": "display_data"
    }
   ],
   "source": [
    "#United Kingdom average Likes\n",
    "\n",
    "label = Label()\n",
    "data = uk_Likes\n",
    "colorScheme = [\"#FFFCFC\", \"#F1DCDC\",\"#DB8585\", \"#BB1216\",\"#6c0000\"]\n",
    "colormap_dept = color.StepColormap(colors=colorScheme,vmin=min(data.values()),vmax=max(data.values()),index=[0,25, 50, 100,250])\n",
    "legend = LegendControl({\"0 - 25\":colorScheme[0], \"25 - 50\":colorScheme[1],\"50 - 100\":colorScheme[2],\"100 - 250\":colorScheme[3],\"250+\": colorScheme[4]},fontsize=2, name=\"Avg. Likes\", position=\"bottomleft\")\n",
    "\n",
    "m = Map(layers=(), center=( 54.9, -2.74580993652344),zoom_control=False,zoom=6)\n",
    "layer = ipyleaflet.Choropleth(geo_data= uk_data,choro_data=data,key_on=\"id\",colormap=colormap_dept,style={'fillOpacity': 1}\n",
    ")\n",
    "\n",
    "layer.on_click(set_popUp)\n",
    "m.on_interaction(handle_interaction_country)\n",
    "m.add_layer(layer)\n",
    "m.add_control(legend)\n",
    "m.layout.width = '60%'\n",
    "m.layout.height = '750px'\n",
    "m"
   ]
  },
  {
   "cell_type": "code",
   "execution_count": 72,
   "metadata": {},
   "outputs": [],
   "source": [
    "#************************************************************************************************"
   ]
  },
  {
   "cell_type": "code",
   "execution_count": 73,
   "metadata": {},
   "outputs": [],
   "source": [
    "#************************************************************************************************"
   ]
  },
  {
   "cell_type": "code",
   "execution_count": 74,
   "metadata": {},
   "outputs": [],
   "source": [
    "# Analyse Tweets count per Country"
   ]
  },
  {
   "cell_type": "code",
   "execution_count": 75,
   "metadata": {},
   "outputs": [],
   "source": [
    "def analyse_tweetsCount(country):\n",
    "    regionType =\"state\"   \n",
    "    \n",
    "    #For Carmen set regionType to County\n",
    "    #if country ==\"United Kingdom\":\n",
    "    #    regionType=\"county\"\n",
    "        \n",
    "    #Set DataFrame to specific country\n",
    "    df_country = df_merged[df_merged[\"country\"]==country]\n",
    "\n",
    "    # Method to match given State Names to State Names from GeoJson\n",
    "    df_country = edit_states(country,df_country)\n",
    "    \n",
    "    #get all states found in dataframe\n",
    "    states = df_country[regionType].unique()\n",
    "\n",
    "    #Tweets for specific country without state information\n",
    "    statesNotFound =len(df_country[df_country[regionType]==\"null\"])\n",
    "    \n",
    "    #Get Tweet Count per State:\n",
    "    stateCounts={}\n",
    "    \n",
    "    # Fill dict ->  statename : countTweets\n",
    "    for state in states:\n",
    "        stateCounts[state]=len(df_country[df_country[regionType]==state])\n",
    "       \n",
    "    #States without tweets get value 0\n",
    "    data = fill_states(country,stateCounts)\n",
    "    \n",
    "    return data, statesNotFound"
   ]
  },
  {
   "cell_type": "code",
   "execution_count": 76,
   "metadata": {
    "scrolled": false
   },
   "outputs": [
    {
     "name": "stdout",
     "output_type": "stream",
     "text": [
      "\n",
      "['Baden-Württemberg', 'Bayern', 'Berlin', 'Brandenburg', 'Bremen', 'Hamburg', 'Hessen', 'Mecklenburg-Vorpommern', 'Niedersachsen', 'Nordrhein-Westfalen', 'Rheinland-Pfalz', 'Saarland', 'Sachsen', 'Sachsen-Anhalt', 'Schleswig-Holstein', 'Thüringen']\n",
      "{'Berlin': 632, 'Saarland': 120, 'Hessen': 284, 'Sachsen': 162, 'Nordrhein-Westfalen': 623, 'Niedersachsen': 160, 'Bayern': 506, 'Sachsen-Anhalt': 36, 'Schleswig-Holstein': 46, 'Thüringen': 47, 'Baden-Württemberg': 401, 'Mecklenburg-Vorpommern': 3, 'Rheinland-Pfalz': 85, 'Brandenburg': 26, 'Hamburg': 60, 'Bremen': 1}\n"
     ]
    },
    {
     "data": {
      "application/vnd.jupyter.widget-view+json": {
       "model_id": "d03c49c488da4a93bf7c55adf30f50cc",
       "version_major": 2,
       "version_minor": 0
      },
      "text/plain": [
       "Map(center=[51.2252978589571, 9.84580993652344], controls=(AttributionControl(options=['position', 'prefix'], …"
      ]
     },
     "metadata": {},
     "output_type": "display_data"
    }
   ],
   "source": [
    "from ipyleaflet import Map, basemaps\n",
    "data, countNull = analyse_tweetsCount(\"Germany\")\n",
    "print(data)\n",
    "label = Label()\n",
    "\n",
    "colorScheme = [\"#FFFCFC\", \"#F1DCDC\",\"#DB8585\", \"#BB1216\",\"#6c0000\"]\n",
    "colormap_dept = color.StepColormap(colors=colorScheme,vmin=min(data.values()),vmax=max(data.values()),index=[0, 100, 1000, 10000, 50000,100000])\n",
    "legend = LegendControl({\"0 - 100\":colorScheme[0], \"100 - 1K\":colorScheme[1],\"1K - 10K\":colorScheme[2],\"10K - 50K\":colorScheme[3],\"50K+\": colorScheme[4]},fontsize=2, name=\"Tweets count\", position=\"bottomleft\")\n",
    "\n",
    "m = Map(layers=(),center=(51.2252978589571, 9.84580993652344),zoom_control=False,zoom=6)\n",
    "\n",
    "layer = ipyleaflet.Choropleth(\n",
    "    geo_data= german_data,\n",
    "    choro_data=data,\n",
    "    key_on=\"id\",\n",
    "    colormap=colormap_dept,\n",
    "    style={'fillOpacity': 1}\n",
    ")\n",
    "\n",
    "layer.on_click(set_popUp)\n",
    "m.on_interaction(handle_interaction_country)\n",
    "m.add_layer(layer)\n",
    "m.add_control(legend)\n",
    "m.layout.width = '60%'\n",
    "m.layout.height = '600px'\n",
    "m"
   ]
  },
  {
   "cell_type": "code",
   "execution_count": 77,
   "metadata": {},
   "outputs": [
    {
     "name": "stdout",
     "output_type": "stream",
     "text": [
      "\n",
      "['Andalucia', 'Aragon', 'Asturias', 'Baleares', 'Canarias', 'Cantabria', 'Castilla-La Mancha', 'Castilla-Leon', 'Catalonia', 'Ceuta', 'Extremadura', 'Galicia', 'La Rioja', 'Madrid', 'Melilla', 'Murcia', 'Navarra', 'Pais Vasco', 'Valencia']\n"
     ]
    },
    {
     "data": {
      "application/vnd.jupyter.widget-view+json": {
       "model_id": "ee8e1a561e914b3e95100e8d861185f1",
       "version_major": 2,
       "version_minor": 0
      },
      "text/plain": [
       "Map(center=[39.8252978589571, -2.54580993652344], controls=(AttributionControl(options=['position', 'prefix'],…"
      ]
     },
     "metadata": {},
     "output_type": "display_data"
    }
   ],
   "source": [
    "data, countNull = analyse_tweetsCount(\"Spain\")\n",
    "label = Label()\n",
    "\n",
    "colorScheme = [\"#FFFCFC\", \"#F1DCDC\",\"#DB8585\", \"#BB1216\",\"#6c0000\"]\n",
    "colormap_dept = color.StepColormap(colors=colorScheme,vmin=min(data.values()),vmax=max(data.values()),index=[0, 100, 1000, 10000, 50000,100000])\n",
    "legend = LegendControl({\"0 - 100\":colorScheme[0], \"100 - 1K\":colorScheme[1],\"1K - 10K\":colorScheme[2],\"10K - 50K\":colorScheme[3],\"50K+\": colorScheme[4]},fontsize=2, name=\"Tweets count\", position=\"bottomright\")\n",
    "\n",
    "m = Map(layers=(), center=( 39.8252978589571, -2.54580993652344),zoom_control=False, zoom=6)\n",
    "\n",
    "layer = ipyleaflet.Choropleth(\n",
    "    geo_data=spain_data,\n",
    "    choro_data=data,\n",
    "    colormap=colormap_dept,\n",
    "    style={'fillOpacity': 1}\n",
    ")\n",
    "\n",
    "layer.on_click(set_popUp)\n",
    "m.on_interaction(handle_interaction_country)\n",
    "m.add_layer(layer)\n",
    "m.add_control(legend)\n",
    "m.layout.width = '65%'\n",
    "m.layout.height = '520px'\n",
    "m"
   ]
  },
  {
   "cell_type": "code",
   "execution_count": 78,
   "metadata": {},
   "outputs": [
    {
     "name": "stdout",
     "output_type": "stream",
     "text": [
      "\n",
      "['Auvergne-Rhône-Alpes', 'Bourgogne-Franche-Comté', 'Bretagne', 'Centre-Val de Loire', 'Corse', 'Grand Est', 'Guadeloupe', 'Guyane', 'Hauts-de-France', 'La Réunion', 'Martinique', 'Mayotte', 'Normandie', 'Nouvelle-Aquitaine', 'Occitanie', 'Pays de la Loire', \"Provence-Alpes-Côte d'Azur\", 'Île-de-France']\n",
      "{'Bretagne': 1759, 'Nouvelle-Aquitaine': 6038, 'Grand Est': 592, 'Auvergne-Rhône-Alpes': 322, 'Île-de-France': 3032, 'Occitanie': 751, 'Pays de la Loire': 917, 'Normandie': 2681, \"Provence-Alpes-Côte d'Azur\": 2160, 'Centre-Val de Loire': 44, 'Corse': 70, 'Hauts-de-France': 46, 'Bourgogne-Franche-Comté': 41, 'Guadeloupe': 0, 'Martinique': 0, 'Guyane': 0, 'La Réunion': 0, 'Mayotte': 0}\n"
     ]
    },
    {
     "data": {
      "application/vnd.jupyter.widget-view+json": {
       "model_id": "863a83059546479f89c3cc190a6314a1",
       "version_major": 2,
       "version_minor": 0
      },
      "text/plain": [
       "Map(center=[46.42252978589571, 2.99580993652344], controls=(AttributionControl(options=['position', 'prefix'],…"
      ]
     },
     "metadata": {},
     "output_type": "display_data"
    }
   ],
   "source": [
    "data, countNull = analyse_tweetsCount(\"France\")\n",
    "print(data)\n",
    "label = Label()\n",
    "\n",
    "colorScheme = [\"#FFFCFC\", \"#F1DCDC\",\"#DB8585\", \"#BB1216\",\"#6c0000\"]\n",
    "colormap_dept = color.StepColormap(colors=colorScheme,vmin=min(data.values()),vmax=max(data.values()),index=[0, 100, 1000, 10000, 50000,100000])\n",
    "legend = LegendControl({\"0 - 100\":colorScheme[0], \"100 - 1K\":colorScheme[1],\"1K - 10K\":colorScheme[2],\"10K - 50K\":colorScheme[3],\"50K+\": colorScheme[4]},fontsize=2, name=\"Tweets count\", position=\"bottomleft\")\n",
    "\n",
    "m = Map(layers=(), center=( 46.42252978589571, 2.99580993652344),zoom_control=False ,zoom=6)\n",
    "layer = ipyleaflet.Choropleth(\n",
    "    geo_data=france_data,\n",
    "    choro_data=data,\n",
    "    key_on='id',\n",
    "    colormap=colormap_dept,\n",
    "    style={'fillOpacity': 0.9}\n",
    ")\n",
    "\n",
    "layer.on_click(my_method)\n",
    "m.on_interaction(handle_interaction)\n",
    "m.add_layer(layer)\n",
    "m.add_control(legend)\n",
    "m.layout.width = '72%'\n",
    "m.layout.height = '650px'\n",
    "m"
   ]
  },
  {
   "cell_type": "code",
   "execution_count": 79,
   "metadata": {},
   "outputs": [
    {
     "name": "stdout",
     "output_type": "stream",
     "text": [
      "\n",
      "['Abruzzo', 'Basilicata', 'Calabria', 'Campania', 'Emilia-Romagna', 'Friuli-Venezia Giulia', 'Lazio', 'Liguria', 'Lombardia', 'Marche', 'Molise', 'Piemonte', 'Puglia', 'Sardegna', 'Sicilia', 'Toscana', 'Trentino-Alto Adige', 'Umbria', \"Valle d'Aosta\", 'Veneto']\n",
      "{'Lombardia': 1109, 'Sardegna': 950, 'Emilia-Romagna': 473, 'Lazio': 343, 'Sicilia': 520, 'Liguria': 22, 'Toscana': 76, 'Veneto': 463, 'Calabria': 366, 'Piemonte': 92, 'Puglia': 349, 'Abruzzo': 16, 'Marche': 113, 'Trentino-Alto Adige': 16, 'Campania': 65, 'Friuli-Venezia Giulia': 17, 'Umbria': 35, 'Basilicata': 20, \"Valle d'Aosta\": 1, 'Molise': 0}\n"
     ]
    },
    {
     "data": {
      "application/vnd.jupyter.widget-view+json": {
       "model_id": "673614e7483146ecbe134730539bbde2",
       "version_major": 2,
       "version_minor": 0
      },
      "text/plain": [
       "Map(center=[41.9952978589571, 12.9], controls=(AttributionControl(options=['position', 'prefix'], position='bo…"
      ]
     },
     "metadata": {},
     "output_type": "display_data"
    }
   ],
   "source": [
    "data, countNull = analyse_tweetsCount(\"Italy\")\n",
    "print(data)\n",
    "label = Label()\n",
    "\n",
    "colorScheme = [\"#FFFCFC\", \"#F1DCDC\",\"#DB8585\", \"#BB1216\",\"#6c0000\"]\n",
    "colormap_dept = color.StepColormap(colors=colorScheme,vmin=min(data.values()),vmax=max(data.values()),index=[0, 100, 1000, 10000, 50000,100000])\n",
    "legend = LegendControl({\"0 - 100\":colorScheme[0], \"100 - 1K\":colorScheme[1],\"1K - 10K\":colorScheme[2],\"10K - 50K\":colorScheme[3],\"50K+\": colorScheme[4]},fontsize=2, name=\"Tweets count\", position=\"bottomleft\")\n",
    "\n",
    "m = Map(layers=(), center=( 41.9952978589571, 12.90),zoom_control=False, zoom=6)\n",
    "\n",
    "layer = ipyleaflet.Choropleth(\n",
    "    geo_data=italy_data,\n",
    "    choro_data=data,\n",
    "    key_on = \"id\",\n",
    "    colormap=colormap_dept,\n",
    "    style={'fillOpacity': 0.9}\n",
    ")\n",
    "\n",
    "layer.on_click(my_method)\n",
    "m.on_interaction(handle_interaction)\n",
    "m.add_layer(layer)\n",
    "m.add_control(legend)\n",
    "m.layout.width = '63%'\n",
    "m.layout.height = '660px'\n",
    "m"
   ]
  },
  {
   "cell_type": "code",
   "execution_count": 80,
   "metadata": {},
   "outputs": [
    {
     "name": "stdout",
     "output_type": "stream",
     "text": [
      "\n",
      "['Andaman & Nicobar Island', 'Andhra Pradesh', 'Arunanchal Pradesh', 'Assam', 'Bihar', 'Chandigarh', 'Chhattisgarh', 'Dadara & Nagar Havelli', 'Daman & Diu', 'Goa', 'Gujarat', 'Haryana', 'Himachal Pradesh', 'Jammu & Kashmir', 'Jharkhand', 'Karnataka', 'Kerala', 'Lakshadweep', 'Madhya Pradesh', 'Maharashtra', 'Manipur', 'Meghalaya', 'Mizoram', 'NCT of Delhi', 'Nagaland', 'Odisha', 'Puducherry', 'Punjab', 'Rajasthan', 'Sikkim', 'Tamil Nadu', 'Telangana', 'Tripura', 'Uttar Pradesh', 'Uttarakhand', 'West Bengal']\n",
      "{'Madhya Pradesh': 67015, 'NCT of Delhi': 8485, 'Jammu & Kashmir': 9600, 'Maharashtra': 35111, 'Rajasthan': 78271, 'Uttar Pradesh': 12497, 'Haryana': 1888, 'Tamil Nadu': 9521, 'Gujarat': 18192, 'Karnataka': 13557, 'Chandigarh': 759, 'Andhra Pradesh': 1661, 'Telangana': 2965, 'West Bengal': 797, 'Chhattisgarh': 632, 'Kerala': 1636, 'Uttarakhand': 120, 'Punjab': 829, 'Goa': 35, 'Tripura': 6, 'Himachal Pradesh': 8, 'Odisha': 45, 'Laccadives': 101, 'Jharkhand': 71, 'Assam': 20, 'Bihar': 22, 'Andaman & Nicobar Island': 22, 'Meghalaya': 1, 'Mizoram': 1, 'Arunanchal Pradesh': 0, 'Daman & Diu': 0, 'Lakshadweep': 0, 'Manipur': 0, 'Puducherry': 0, 'Sikkim': 0, 'Dadara & Nagar Havelli': 0, 'Nagaland': 0}\n"
     ]
    },
    {
     "data": {
      "application/vnd.jupyter.widget-view+json": {
       "model_id": "1aa0788e36804ea696b929c32a3537ea",
       "version_major": 2,
       "version_minor": 0
      },
      "text/plain": [
       "Map(center=[23.2252978589571, 84.44580993652345], controls=(AttributionControl(options=['position', 'prefix'],…"
      ]
     },
     "metadata": {},
     "output_type": "display_data"
    }
   ],
   "source": [
    "data, countNull = analyse_tweetsCount(\"India\")\n",
    "print(data)\n",
    "label = Label()\n",
    "\n",
    "colorScheme = [\"#FFFCFC\", \"#F1DCDC\",\"#DB8585\", \"#BB1216\",\"#6c0000\"]\n",
    "colormap_dept = color.StepColormap(colors=colorScheme,vmin=min(data.values()),vmax=max(data.values()),index=[0, 100, 1000, 10000, 50000,100000])\n",
    "legend = LegendControl({\"0 - 100\":colorScheme[0], \"100 - 1K\":colorScheme[1],\"1K - 10K\":colorScheme[2],\"10K - 50K\":colorScheme[3],\"50K+\": colorScheme[4]},fontsize=2, name=\"Tweets count\", position=\"bottomleft\")\n",
    "\n",
    "m = Map(layers=(), center=( 23.2252978589571, 84.44580993652344), zoom_control=False,zoom=5)\n",
    "\n",
    "layer = ipyleaflet.Choropleth(\n",
    "    geo_data=india_data,\n",
    "    choro_data=data,\n",
    "    key_on = \"id\",\n",
    "    colormap=colormap_dept,\n",
    "    style={'fillOpacity': 0.9}\n",
    ")\n",
    "\n",
    "layer.on_click(my_method)\n",
    "m.on_interaction(handle_interaction)\n",
    "m.add_layer(layer)\n",
    "m.add_control(legend)\n",
    "m.layout.width = '76%'\n",
    "m.layout.height = '750px'\n",
    "m"
   ]
  },
  {
   "cell_type": "code",
   "execution_count": 81,
   "metadata": {},
   "outputs": [
    {
     "name": "stdout",
     "output_type": "stream",
     "text": [
      "\n",
      "['Alabama', 'Alaska', 'Arizona', 'Arkansas', 'California', 'Colorado', 'Connecticut', 'Delaware', 'District of Columbia', 'Florida', 'Georgia', 'Hawaii', 'Idaho', 'Illinois', 'Indiana', 'Iowa', 'Kansas', 'Kentucky', 'Louisiana', 'Maine', 'Maryland', 'Massachusetts', 'Michigan', 'Minnesota', 'Mississippi', 'Missouri', 'Montana', 'Nebraska', 'Nevada', 'New Hampshire', 'New Jersey', 'New Mexico', 'New York', 'North Carolina', 'North Dakota', 'Ohio', 'Oklahoma', 'Oregon', 'Pennsylvania', 'Puerto Rico', 'Rhode Island', 'South Carolina', 'South Dakota', 'Tennessee', 'Texas', 'Utah', 'Vermont', 'Virginia', 'Washington', 'West Virginia', 'Wisconsin', 'Wyoming']\n"
     ]
    },
    {
     "data": {
      "application/vnd.jupyter.widget-view+json": {
       "model_id": "fcb358efba954d63b8ebebd9f947102d",
       "version_major": 2,
       "version_minor": 0
      },
      "text/plain": [
       "Map(center=[37.6252978589571, -94.24580993652344], controls=(AttributionControl(options=['position', 'prefix']…"
      ]
     },
     "metadata": {},
     "output_type": "display_data"
    }
   ],
   "source": [
    "label = Label()\n",
    "data, countNull = analyse_tweetsCount(\"United States\")\n",
    "colorScheme = [\"#FFFCFC\", \"#F1DCDC\",\"#DB8585\", \"#BB1216\",\"#6c0000\"]\n",
    "colormap_dept = color.StepColormap(colors=colorScheme,vmin=min(data.values()),vmax=max(data.values()),index=[0, 100, 1000, 10000, 50000,100000])\n",
    "legend = LegendControl({\"0 - 100\":colorScheme[0], \"100 - 1K\":colorScheme[1],\"1K - 10K\":colorScheme[2],\"10K - 50K\":colorScheme[3],\"50K+\": colorScheme[4]},fontsize=2, name=\"Tweets count\", position=\"bottomleft\")\n",
    "\n",
    "m = Map(layers=(), center=( 37.6252978589571, -94.24580993652344),zoom_control=False,zoom=4)\n",
    "#\n",
    "layer = ipyleaflet.Choropleth(geo_data=us_data,choro_data=data,key_on = \"id\",colormap=colormap_dept,style={'fillOpacity': 0.9}\n",
    ")\n",
    "layer.on_click(my_method)\n",
    "m.on_interaction(handle_interaction)\n",
    "m.add_layer(layer)\n",
    "m.add_control(legend)\n",
    "m.layout.width = '75%'\n",
    "m.layout.height = '440px'\n",
    "m"
   ]
  },
  {
   "cell_type": "code",
   "execution_count": 82,
   "metadata": {},
   "outputs": [
    {
     "name": "stdout",
     "output_type": "stream",
     "text": [
      "\n",
      "['Aberdeen', 'Aberdeenshire', 'Anglesey', 'Angus', 'Antrim', 'Ards', 'Argyll and Bute', 'Armagh', 'Ballymena', 'Ballymoney', 'Banbridge', 'Barking and Dagenham', 'Bath and North East Somerset', 'Bedfordshire', 'Belfast', 'Berkshire', 'Bexley', 'Blackburn with Darwen', 'Blaenau Gwent', 'Bournemouth', 'Brent', 'Bridgend', 'Brighton and Hove', 'Bristol', 'Bromley', 'Buckinghamshire', 'Caerphilly', 'Cambridgeshire', 'Camden', 'Cardiff', 'Carmarthenshire', 'Carrickfergus', 'Castlereagh', 'Ceredigion', 'Cheshire', 'Clackmannanshire', 'Coleraine', 'Conwy', 'Cookstown', 'Cornwall', 'Craigavon', 'Croydon', 'Cumbria', 'Darlington', 'Denbighshire', 'Derby', 'Derbyshire', 'Derry', 'Devon', 'Dorset', 'Down', 'Dumfries and Galloway', 'Dundee', 'Dungannon', 'Durham', 'Ealing', 'East Ayrshire', 'East Dunbartonshire', 'East Lothian', 'East Renfrewshire', 'East Riding of Yorkshire', 'East Sussex', 'Edinburgh', 'Eilean Siar', 'Enfield', 'Essex', 'Falkirk', 'Fermanagh', 'Fife', 'Flintshire', 'Glasgow', 'Gloucestershire', 'Greenwich', 'Gwynedd', 'Hackney', 'Halton', 'Hammersmith and Fulham', 'Hampshire', 'Haringey', 'Harrow', 'Hartlepool', 'Havering', 'Herefordshire', 'Hertfordshire', 'Highland', 'Hillingdon', 'Hounslow', 'Inverclyde', 'Isle of Wight', 'Islington', 'Kensington and Chelsea', 'Kent', 'Kingston upon Hull', 'Kingston upon Thames', 'Lambeth', 'Lancashire', 'Larne', 'Leicester', 'Leicestershire', 'Lewisham', 'Limavady', 'Lincolnshire', 'Lisburn', 'London', 'Luton', 'Magherafelt', 'Manchester', 'Medway', 'Merseyside', 'Merthyr Tydfil', 'Merton', 'Middlesbrough', 'Midlothian', 'Milton Keynes', 'Monmouthshire', 'Moray', 'Moyle', 'Neath Port Talbot', 'Newham', 'Newport', 'Newry and Mourne', 'Newtownabbey', 'Norfolk', 'North Ayshire', 'North Down', 'North East Lincolnshire', 'North Lanarkshire', 'North Lincolnshire', 'North Somerset', 'North Yorkshire', 'Northamptonshire', 'Northumberland', 'Nottingham', 'Nottinghamshire', 'Omagh', 'Orkney Islands', 'Oxfordshire', 'Pembrokeshire', 'Perthshire and Kinross', 'Peterborough', 'Plymouth', 'Poole', 'Portsmouth', 'Powys', 'Redbridge', 'Redcar and Cleveland', 'Renfrewshire', 'Rhondda, Cynon, Taff', 'Richmond upon Thames', 'Rutland', 'Scottish Borders', 'Shetland Islands', 'Shropshire', 'Somerset', 'South Ayrshire', 'South Gloucestershire', 'South Lanarkshire', 'South Yorkshire', 'Southampton', 'Southend-on-Sea', 'Southwark', 'Staffordshire', 'Stirling', 'Stockton-on-Tees', 'Stoke-on-Trent', 'Strabane', 'Suffolk', 'Surrey', 'Sutton', 'Swansea', 'Swindon', 'Telford and Wrekin', 'Thurrock', 'Torbay', 'Torfaen', 'Tower Hamlets', 'Tyne and Wear', 'Vale of Glamorgan', 'Waltham Forest', 'Wandsworth', 'Warrington', 'Warwickshire', 'West Dunbartonshire', 'West Lothian', 'West Midlands', 'West Sussex', 'West Yorkshire', 'Westminster', 'Wiltshire', 'Worcestershire', 'Wrexham', 'York']\n"
     ]
    },
    {
     "data": {
      "application/vnd.jupyter.widget-view+json": {
       "model_id": "8aa3019dc9b14f56a012fbd2d64b30d5",
       "version_major": 2,
       "version_minor": 0
      },
      "text/plain": [
       "Map(center=[54.9, -2.74580993652344], controls=(AttributionControl(options=['position', 'prefix'], position='b…"
      ]
     },
     "metadata": {},
     "output_type": "display_data"
    }
   ],
   "source": [
    "label = Label()\n",
    "data, countNull = analyse_tweetsCount(\"United Kingdom\")\n",
    "colorScheme = [\"#FFFCFC\", \"#F1DCDC\",\"#DB8585\", \"#BB1216\",\"#6c0000\"]\n",
    "colormap_dept = color.StepColormap(colors=colorScheme,vmin=min(data.values()),vmax=max(data.values()),index=[0, 100, 1000, 10000, 50000,100000])\n",
    "legend = LegendControl({\"0 - 100\":colorScheme[0], \"100 - 1K\":colorScheme[1],\"1K - 10K\":colorScheme[2],\"10K - 50K\":colorScheme[3],\"50K+\": colorScheme[4]},fontsize=2, name=\"Tweets count\", position=\"bottomleft\")\n",
    "\n",
    "m = Map(layers=(), center=( 54.9, -2.74580993652344),zoom_control=False,zoom=6)\n",
    "layer = ipyleaflet.Choropleth(geo_data= uk_data,choro_data=data,key_on=\"id\",colormap=colormap_dept,style={'fillOpacity': 1}\n",
    ")\n",
    "\n",
    "layer.on_click(set_popUp)\n",
    "m.on_interaction(handle_interaction_country)\n",
    "m.add_layer(layer)\n",
    "m.add_control(legend)\n",
    "m.layout.width = '60%'\n",
    "m.layout.height = '750px'\n",
    "m"
   ]
  },
  {
   "cell_type": "code",
   "execution_count": null,
   "metadata": {},
   "outputs": [],
   "source": []
  }
 ],
 "metadata": {
  "kernelspec": {
   "display_name": "Python 3",
   "language": "python",
   "name": "python3"
  },
  "language_info": {
   "codemirror_mode": {
    "name": "ipython",
    "version": 3
   },
   "file_extension": ".py",
   "mimetype": "text/x-python",
   "name": "python",
   "nbconvert_exporter": "python",
   "pygments_lexer": "ipython3",
   "version": "3.7.6"
  }
 },
 "nbformat": 4,
 "nbformat_minor": 4
}
